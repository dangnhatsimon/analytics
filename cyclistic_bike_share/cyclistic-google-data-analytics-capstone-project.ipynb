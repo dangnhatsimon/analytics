{
 "cells": [
  {
   "cell_type": "markdown",
   "id": "c3b79b67",
   "metadata": {
    "_cell_guid": "b1076dfc-b9ad-4769-8c92-a6c4dae69d19",
    "_uuid": "8f2839f25d086af736a60e9eeb907d3b93b6e0e5",
    "papermill": {
     "duration": 0.05208,
     "end_time": "2021-09-27T16:40:12.533353",
     "exception": false,
     "start_time": "2021-09-27T16:40:12.481273",
     "status": "completed"
    },
    "tags": []
   },
   "source": [
    "**Cyclistic** - Google Data Analytics Certification Capstone Project  \n",
    "Moirangthem Arup Singh    \n",
    "\n",
    "\n",
    "  \n",
    "\n",
    "\n",
    "How Does a Bike-Share Navigate Speedy Success?  \n",
    "\n",
    "**Background:**\n",
    "This project is for the Google Data Analytics Certification capstone project.  \n",
    "\n",
    "I am wearing the hat of a junior data analyst working in the marketing analyst team at Cyclistic, a bike-share company in Chicago. Cyclistic is a bike-share program that features more than 5,800 bicycles and 600 docking stations. Cyclistic sets itself apart by also offering reclining bikes, hand tricycles, and cargo bikes, making bike-share more inclusive to people with disabilities and riders who can’t use a standard two-wheeled bike. The majority of riders opt for traditional bikes; about 8% of riders use the assistive options. Cyclistic users are more likely to ride for leisure, but about 30% use them to commute to work each day. Customers who purchase single-ride or full-day passes are referred to as casual riders. Customers\n",
    "who purchase annual memberships are Cyclistic members.  \n",
    "The director of marketing believes the company’s future success depends on maximizing the number of annual memberships. Therefore,my team wants to understand how casual riders and annual members use Cyclistic bikes differently. From these insights, my team will design a new marketing strategy to convert casual riders into annual members. But first, Cyclistic executives must approve the recommendations, so they must be backed up with compelling data insights and professional data visualizations.    \n",
    "\n",
    "\n",
    "This project will be completed by using the 6 Data Analytics stages:  \n",
    "\n",
    "Ask: Identify the business task and determine the key stakeholders.  \n",
    "Prepare: Collect the data, identify how it’s organized, determine the credibility of the data.  \n",
    "Process: Select the tool for data cleaning, check for errors and document the cleaning process.  \n",
    "Analyze: Organize and format the data, aggregate the data so that it’s useful, perform calculations and identify trends and relationships.  \n",
    "Share: Use design thinking principles and data-driven storytelling approach, present the findings with effective visualization. Ensure the analysis has answered the business task.  \n",
    "Act: Share the final conclusion and the recommendations.  \n"
   ]
  },
  {
   "cell_type": "markdown",
   "id": "a889a6cd",
   "metadata": {
    "papermill": {
     "duration": 0.049759,
     "end_time": "2021-09-27T16:40:12.633249",
     "exception": false,
     "start_time": "2021-09-27T16:40:12.583490",
     "status": "completed"
    },
    "tags": []
   },
   "source": [
    "**Ask:**  \n",
    "\n",
    "Business Task:  \n",
    "Recommend marketing strategies aimed at converting casual riders into annual members by better understanding how annual members and casual riders use Cyclistic bikes differently.     \n",
    "\n",
    "Stakeholders:  \n",
    "Lily Moreno: The director of marketing and my manager.  \n",
    "Cyclistic executive team: A detail-oriented executive team who will decide whether to approve the recommended marketing program.  \n",
    "Cyclistic marketing analytics team: A team of data analysts responsible for collecting, analyzing, and reporting data that helps guide Cyclistic’s marketing strategy.  "
   ]
  },
  {
   "cell_type": "markdown",
   "id": "9daadad1",
   "metadata": {
    "papermill": {
     "duration": 0.051658,
     "end_time": "2021-09-27T16:40:12.736079",
     "exception": false,
     "start_time": "2021-09-27T16:40:12.684421",
     "status": "completed"
    },
    "tags": []
   },
   "source": [
    "**Prepare:**  \n",
    "\n",
    "For this project, I will use the public data of Cyclistic’s historical trip data to analyze and identify trends. The data has been made available by [Motivate International Inc.](https://divvy-tripdata.s3.amazonaws.com/index.html)  under the [license.](https://www.divvybikes.com/data-license-agreement)\n",
    "\n",
    "I downloaded the ZIP files containing the csv files from the above link but while uploading the files in kaggle (as I am using kaggle notebook), it gave me a warning that the dataset is already available in kaggle. So I will be using the dataset **cyclictic-bike-share** dataset from kaggle. The dataset has 13 csv files from April 2020 to April 2021. For the purpose of my analysis I will use the csv files from April 2020 to March 2021. The source csv files are in Kaggle so I can rely on it's integrity.   \n",
    "\n",
    "I am using Microsoft Excel to get a glimpse of the data. There is one csv file for each month and has information about the bike ride which contain details of the ride id, rideable type, start and end time, start and end station, latitude and longitude of the start and end stations."
   ]
  },
  {
   "cell_type": "markdown",
   "id": "baf72c41",
   "metadata": {
    "papermill": {
     "duration": 0.049872,
     "end_time": "2021-09-27T16:40:12.835247",
     "exception": false,
     "start_time": "2021-09-27T16:40:12.785375",
     "status": "completed"
    },
    "tags": []
   },
   "source": [
    "**Process:**  \n",
    "\n",
    "I will use R as language in kaggle to import the dataset to check how it’s organized, whether all the columns have appropriate data type, find outliers and if any of these data have sampling bias.\n",
    "\n",
    "I will be using below R libraries"
   ]
  },
  {
   "cell_type": "code",
   "execution_count": 1,
   "id": "e143f9ca",
   "metadata": {
    "execution": {
     "iopub.execute_input": "2021-09-27T16:40:12.943251Z",
     "iopub.status.busy": "2021-09-27T16:40:12.940003Z",
     "iopub.status.idle": "2021-09-27T16:40:14.301675Z",
     "shell.execute_reply": "2021-09-27T16:40:14.300139Z"
    },
    "papermill": {
     "duration": 1.417423,
     "end_time": "2021-09-27T16:40:14.301860",
     "exception": false,
     "start_time": "2021-09-27T16:40:12.884437",
     "status": "completed"
    },
    "tags": []
   },
   "outputs": [
    {
     "name": "stderr",
     "output_type": "stream",
     "text": [
      "── \u001b[1mAttaching packages\u001b[22m ─────────────────────────────────────── tidyverse 1.3.1 ──\n",
      "\n",
      "\u001b[32m✔\u001b[39m \u001b[34mggplot2\u001b[39m 3.3.5     \u001b[32m✔\u001b[39m \u001b[34mpurrr  \u001b[39m 0.3.4\n",
      "\u001b[32m✔\u001b[39m \u001b[34mtibble \u001b[39m 3.1.4     \u001b[32m✔\u001b[39m \u001b[34mdplyr  \u001b[39m 1.0.7\n",
      "\u001b[32m✔\u001b[39m \u001b[34mtidyr  \u001b[39m 1.1.3     \u001b[32m✔\u001b[39m \u001b[34mstringr\u001b[39m 1.4.0\n",
      "\u001b[32m✔\u001b[39m \u001b[34mreadr  \u001b[39m 2.0.1     \u001b[32m✔\u001b[39m \u001b[34mforcats\u001b[39m 0.5.1\n",
      "\n",
      "── \u001b[1mConflicts\u001b[22m ────────────────────────────────────────── tidyverse_conflicts() ──\n",
      "\u001b[31m✖\u001b[39m \u001b[34mdplyr\u001b[39m::\u001b[32mfilter()\u001b[39m masks \u001b[34mstats\u001b[39m::filter()\n",
      "\u001b[31m✖\u001b[39m \u001b[34mdplyr\u001b[39m::\u001b[32mlag()\u001b[39m    masks \u001b[34mstats\u001b[39m::lag()\n",
      "\n",
      "\n",
      "Attaching package: ‘lubridate’\n",
      "\n",
      "\n",
      "The following objects are masked from ‘package:base’:\n",
      "\n",
      "    date, intersect, setdiff, union\n",
      "\n",
      "\n"
     ]
    }
   ],
   "source": [
    "#Load the tidyverse, lubridate, ggplot2, sqldf and psych libraries\n",
    "\n",
    "library(tidyverse)\n",
    "library(lubridate)\n",
    "library(ggplot2)\n",
    "library(plotrix)"
   ]
  },
  {
   "cell_type": "code",
   "execution_count": 2,
   "id": "85df4840",
   "metadata": {
    "execution": {
     "iopub.execute_input": "2021-09-27T16:40:14.441657Z",
     "iopub.status.busy": "2021-09-27T16:40:14.409494Z",
     "iopub.status.idle": "2021-09-27T16:40:14.457148Z",
     "shell.execute_reply": "2021-09-27T16:40:14.455756Z"
    },
    "papermill": {
     "duration": 0.103339,
     "end_time": "2021-09-27T16:40:14.457298",
     "exception": false,
     "start_time": "2021-09-27T16:40:14.353959",
     "status": "completed"
    },
    "tags": []
   },
   "outputs": [],
   "source": [
    "#Set the working directory \n",
    "\n",
    "setwd(\"/kaggle/input/cyclistic-bike-share\")"
   ]
  },
  {
   "cell_type": "code",
   "execution_count": 3,
   "id": "b5566adc",
   "metadata": {
    "execution": {
     "iopub.execute_input": "2021-09-27T16:40:14.568144Z",
     "iopub.status.busy": "2021-09-27T16:40:14.566134Z",
     "iopub.status.idle": "2021-09-27T16:41:23.623183Z",
     "shell.execute_reply": "2021-09-27T16:41:23.621685Z"
    },
    "papermill": {
     "duration": 69.115076,
     "end_time": "2021-09-27T16:41:23.623482",
     "exception": false,
     "start_time": "2021-09-27T16:40:14.508406",
     "status": "completed"
    },
    "tags": []
   },
   "outputs": [],
   "source": [
    "#Import the csv files\n",
    "\n",
    "r_202004 <- read.csv(\"202004-divvy-tripdata.csv\")\n",
    "r_202005 <- read.csv(\"202005-divvy-tripdata.csv\")\n",
    "r_202006 <- read.csv(\"202006-divvy-tripdata.csv\")\n",
    "r_202007 <- read.csv(\"202007-divvy-tripdata.csv\")\n",
    "r_202008 <- read.csv(\"202008-divvy-tripdata.csv\")\n",
    "r_202009 <- read.csv(\"202009-divvy-tripdata.csv\")\n",
    "r_202010 <- read.csv(\"202010-divvy-tripdata.csv\")\n",
    "r_202011 <- read.csv(\"202011-divvy-tripdata.csv\")\n",
    "r_202012 <- read.csv(\"202012-divvy-tripdata.csv\")\n",
    "r_202101 <- read.csv(\"202101-divvy-tripdata.csv\")\n",
    "r_202102 <- read.csv(\"202102-divvy-tripdata.csv\")\n",
    "r_202103 <- read.csv(\"202103-divvy-tripdata.csv\")"
   ]
  },
  {
   "cell_type": "code",
   "execution_count": 4,
   "id": "37c79f41",
   "metadata": {
    "execution": {
     "iopub.execute_input": "2021-09-27T16:41:23.737718Z",
     "iopub.status.busy": "2021-09-27T16:41:23.736274Z",
     "iopub.status.idle": "2021-09-27T16:41:24.028363Z",
     "shell.execute_reply": "2021-09-27T16:41:24.027123Z"
    },
    "papermill": {
     "duration": 0.349505,
     "end_time": "2021-09-27T16:41:24.028604",
     "exception": false,
     "start_time": "2021-09-27T16:41:23.679099",
     "status": "completed"
    },
    "tags": []
   },
   "outputs": [
    {
     "name": "stdout",
     "output_type": "stream",
     "text": [
      "'data.frame':\t84776 obs. of  13 variables:\n",
      " $ ride_id           : chr  \"A847FADBBC638E45\" \"5405B80E996FF60D\" \"5DD24A79A4E006F4\" \"2A59BBDF5CDBA725\" ...\n",
      " $ rideable_type     : chr  \"docked_bike\" \"docked_bike\" \"docked_bike\" \"docked_bike\" ...\n",
      " $ started_at        : chr  \"2020-04-26 17:45:14\" \"2020-04-17 17:08:54\" \"2020-04-01 17:54:13\" \"2020-04-07 12:50:19\" ...\n",
      " $ ended_at          : chr  \"2020-04-26 18:12:03\" \"2020-04-17 17:17:03\" \"2020-04-01 18:08:36\" \"2020-04-07 13:02:31\" ...\n",
      " $ start_station_name: chr  \"Eckhart Park\" \"Drake Ave & Fullerton Ave\" \"McClurg Ct & Erie St\" \"California Ave & Division St\" ...\n",
      " $ start_station_id  : int  86 503 142 216 125 173 35 434 627 377 ...\n",
      " $ end_station_name  : chr  \"Lincoln Ave & Diversey Pkwy\" \"Kosciuszko Park\" \"Indiana Ave & Roosevelt Rd\" \"Wood St & Augusta Blvd\" ...\n",
      " $ end_station_id    : int  152 499 255 657 323 35 635 382 359 508 ...\n",
      " $ start_lat         : num  41.9 41.9 41.9 41.9 41.9 ...\n",
      " $ start_lng         : num  -87.7 -87.7 -87.6 -87.7 -87.6 ...\n",
      " $ end_lat           : num  41.9 41.9 41.9 41.9 42 ...\n",
      " $ end_lng           : num  -87.7 -87.7 -87.6 -87.7 -87.7 ...\n",
      " $ member_casual     : chr  \"member\" \"member\" \"member\" \"member\" ...\n",
      "'data.frame':\t200274 obs. of  13 variables:\n",
      " $ ride_id           : chr  \"02668AD35674B983\" \"7A50CCAF1EDDB28F\" \"2FFCDFDB91FE9A52\" \"58991CF1DB75BA84\" ...\n",
      " $ rideable_type     : chr  \"docked_bike\" \"docked_bike\" \"docked_bike\" \"docked_bike\" ...\n",
      " $ started_at        : chr  \"2020-05-27 10:03:52\" \"2020-05-25 10:47:11\" \"2020-05-02 14:11:03\" \"2020-05-02 16:25:36\" ...\n",
      " $ ended_at          : chr  \"2020-05-27 10:16:49\" \"2020-05-25 11:05:40\" \"2020-05-02 15:48:21\" \"2020-05-02 16:39:28\" ...\n",
      " $ start_station_name: chr  \"Franklin St & Jackson Blvd\" \"Clark St & Wrightwood Ave\" \"Kedzie Ave & Milwaukee Ave\" \"Clarendon Ave & Leland Ave\" ...\n",
      " $ start_station_id  : int  36 340 260 251 261 206 261 180 331 219 ...\n",
      " $ end_station_name  : chr  \"Wabash Ave & Grand Ave\" \"Clark St & Leland Ave\" \"Kedzie Ave & Milwaukee Ave\" \"Lake Shore Dr & Wellington Ave\" ...\n",
      " $ end_station_id    : int  199 326 260 157 206 22 261 180 300 305 ...\n",
      " $ start_lat         : num  41.9 41.9 41.9 42 41.9 ...\n",
      " $ start_lng         : num  -87.6 -87.6 -87.7 -87.7 -87.7 ...\n",
      " $ end_lat           : num  41.9 42 41.9 41.9 41.8 ...\n",
      " $ end_lng           : num  -87.6 -87.7 -87.7 -87.6 -87.6 ...\n",
      " $ member_casual     : chr  \"member\" \"casual\" \"casual\" \"casual\" ...\n",
      "'data.frame':\t343005 obs. of  13 variables:\n",
      " $ ride_id           : chr  \"8CD5DE2C2B6C4CFC\" \"9A191EB2C751D85D\" \"F37D14B0B5659BCF\" \"C41237B506E85FA1\" ...\n",
      " $ rideable_type     : chr  \"docked_bike\" \"docked_bike\" \"docked_bike\" \"docked_bike\" ...\n",
      " $ started_at        : chr  \"2020-06-13 23:24:48\" \"2020-06-26 07:26:10\" \"2020-06-23 17:12:41\" \"2020-06-20 01:09:35\" ...\n",
      " $ ended_at          : chr  \"2020-06-13 23:36:55\" \"2020-06-26 07:31:58\" \"2020-06-23 17:21:14\" \"2020-06-20 01:28:24\" ...\n",
      " $ start_station_name: chr  \"Wilton Ave & Belmont Ave\" \"Federal St & Polk St\" \"Daley Center Plaza\" \"Broadway & Cornelia Ave\" ...\n",
      " $ start_station_id  : int  117 41 81 303 327 327 41 115 338 84 ...\n",
      " $ end_station_name  : chr  \"Damen Ave & Clybourn Ave\" \"Daley Center Plaza\" \"State St & Harrison St\" \"Broadway & Berwyn Ave\" ...\n",
      " $ end_station_id    : int  163 81 5 294 117 117 81 303 164 53 ...\n",
      " $ start_lat         : num  41.9 41.9 41.9 41.9 41.9 ...\n",
      " $ start_lng         : num  -87.7 -87.6 -87.6 -87.6 -87.7 ...\n",
      " $ end_lat           : num  41.9 41.9 41.9 42 41.9 ...\n",
      " $ end_lng           : num  -87.7 -87.6 -87.6 -87.7 -87.7 ...\n",
      " $ member_casual     : chr  \"casual\" \"member\" \"member\" \"casual\" ...\n",
      "'data.frame':\t551480 obs. of  13 variables:\n",
      " $ ride_id           : chr  \"762198876D69004D\" \"BEC9C9FBA0D4CF1B\" \"D2FD8EA432C77EC1\" \"54AE594E20B35881\" ...\n",
      " $ rideable_type     : chr  \"docked_bike\" \"docked_bike\" \"docked_bike\" \"docked_bike\" ...\n",
      " $ started_at        : chr  \"2020-07-09 15:22:02\" \"2020-07-24 23:56:30\" \"2020-07-08 19:49:07\" \"2020-07-17 19:06:42\" ...\n",
      " $ ended_at          : chr  \"2020-07-09 15:25:52\" \"2020-07-25 00:20:17\" \"2020-07-08 19:56:22\" \"2020-07-17 19:27:38\" ...\n",
      " $ start_station_name: chr  \"Ritchie Ct & Banks St\" \"Halsted St & Roscoe St\" \"Lake Shore Dr & Diversey Pkwy\" \"LaSalle St & Illinois St\" ...\n",
      " $ start_station_id  : int  180 299 329 181 268 635 113 211 176 31 ...\n",
      " $ end_station_name  : chr  \"Wells St & Evergreen Ave\" \"Broadway & Ridge Ave\" \"Clark St & Wellington Ave\" \"Clark St & Armitage Ave\" ...\n",
      " $ end_station_id    : int  291 461 156 94 301 289 140 31 191 142 ...\n",
      " $ start_lat         : num  41.9 41.9 41.9 41.9 41.9 ...\n",
      " $ start_lng         : num  -87.6 -87.6 -87.6 -87.6 -87.6 ...\n",
      " $ end_lat           : num  41.9 42 41.9 41.9 41.9 ...\n",
      " $ end_lng           : num  -87.6 -87.7 -87.6 -87.6 -87.6 ...\n",
      " $ member_casual     : chr  \"member\" \"member\" \"casual\" \"casual\" ...\n",
      "'data.frame':\t622361 obs. of  13 variables:\n",
      " $ ride_id           : chr  \"322BD23D287743ED\" \"2A3AEF1AB9054D8B\" \"67DC1D133E8B5816\" \"C79FBBD412E578A7\" ...\n",
      " $ rideable_type     : chr  \"docked_bike\" \"electric_bike\" \"electric_bike\" \"electric_bike\" ...\n",
      " $ started_at        : chr  \"2020-08-20 18:08:14\" \"2020-08-27 18:46:04\" \"2020-08-26 19:44:14\" \"2020-08-27 12:05:41\" ...\n",
      " $ ended_at          : chr  \"2020-08-20 18:17:51\" \"2020-08-27 19:54:51\" \"2020-08-26 21:53:07\" \"2020-08-27 12:53:45\" ...\n",
      " $ start_station_name: chr  \"Lake Shore Dr & Diversey Pkwy\" \"Michigan Ave & 14th St\" \"Columbus Dr & Randolph St\" \"Daley Center Plaza\" ...\n",
      " $ start_station_id  : int  329 168 195 81 658 658 196 67 153 177 ...\n",
      " $ end_station_name  : chr  \"Clark St & Lincoln Ave\" \"Michigan Ave & 14th St\" \"State St & Randolph St\" \"State St & Kinzie St\" ...\n",
      " $ end_station_id    : int  141 168 44 47 658 658 49 229 225 305 ...\n",
      " $ start_lat         : num  41.9 41.9 41.9 41.9 41.9 ...\n",
      " $ start_lng         : num  -87.6 -87.6 -87.6 -87.6 -87.7 ...\n",
      " $ end_lat           : num  41.9 41.9 41.9 41.9 41.9 ...\n",
      " $ end_lng           : num  -87.6 -87.6 -87.6 -87.6 -87.7 ...\n",
      " $ member_casual     : chr  \"member\" \"casual\" \"casual\" \"casual\" ...\n",
      "'data.frame':\t532958 obs. of  13 variables:\n",
      " $ ride_id           : chr  \"2B22BD5F95FB2629\" \"A7FB70B4AFC6CAF2\" \"86057FA01BAC778E\" \"57F6DC9A153DB98C\" ...\n",
      " $ rideable_type     : chr  \"electric_bike\" \"electric_bike\" \"electric_bike\" \"electric_bike\" ...\n",
      " $ started_at        : chr  \"2020-09-17 14:27:11\" \"2020-09-17 15:07:31\" \"2020-09-17 15:09:04\" \"2020-09-17 18:10:46\" ...\n",
      " $ ended_at          : chr  \"2020-09-17 14:44:24\" \"2020-09-17 15:07:45\" \"2020-09-17 15:09:35\" \"2020-09-17 18:35:49\" ...\n",
      " $ start_station_name: chr  \"Michigan Ave & Lake St\" \"W Oakdale Ave & N Broadway\" \"W Oakdale Ave & N Broadway\" \"Ashland Ave & Belle Plaine Ave\" ...\n",
      " $ start_station_id  : int  52 NA NA 246 24 94 291 NA NA NA ...\n",
      " $ end_station_name  : chr  \"Green St & Randolph St\" \"W Oakdale Ave & N Broadway\" \"W Oakdale Ave & N Broadway\" \"Montrose Harbor\" ...\n",
      " $ end_station_id    : int  112 NA NA 249 24 NA 256 NA NA NA ...\n",
      " $ start_lat         : num  41.9 41.9 41.9 42 41.9 ...\n",
      " $ start_lng         : num  -87.6 -87.6 -87.6 -87.7 -87.6 ...\n",
      " $ end_lat           : num  41.9 41.9 41.9 42 41.9 ...\n",
      " $ end_lng           : num  -87.6 -87.6 -87.6 -87.6 -87.6 ...\n",
      " $ member_casual     : chr  \"casual\" \"casual\" \"casual\" \"casual\" ...\n",
      "'data.frame':\t388653 obs. of  13 variables:\n",
      " $ ride_id           : chr  \"ACB6B40CF5B9044C\" \"DF450C72FD109C01\" \"B6396B54A15AC0DF\" \"44A4AEE261B9E854\" ...\n",
      " $ rideable_type     : chr  \"electric_bike\" \"electric_bike\" \"electric_bike\" \"electric_bike\" ...\n",
      " $ started_at        : chr  \"2020-10-31 19:39:43\" \"2020-10-31 23:50:08\" \"2020-10-31 23:00:01\" \"2020-10-31 22:16:43\" ...\n",
      " $ ended_at          : chr  \"2020-10-31 19:57:12\" \"2020-11-01 00:04:16\" \"2020-10-31 23:08:22\" \"2020-10-31 22:19:35\" ...\n",
      " $ start_station_name: chr  \"Lakeview Ave & Fullerton Pkwy\" \"Southport Ave & Waveland Ave\" \"Stony Island Ave & 67th St\" \"Clark St & Grace St\" ...\n",
      " $ start_station_id  : int  313 227 102 165 190 359 313 125 NA 174 ...\n",
      " $ end_station_name  : chr  \"Rush St & Hubbard St\" \"Kedzie Ave & Milwaukee Ave\" \"University Ave & 57th St\" \"Broadway & Sheridan Rd\" ...\n",
      " $ end_station_id    : int  125 260 423 256 185 53 125 313 199 635 ...\n",
      " $ start_lat         : num  41.9 41.9 41.8 42 41.9 ...\n",
      " $ start_lng         : num  -87.6 -87.7 -87.6 -87.7 -87.7 ...\n",
      " $ end_lat           : num  41.9 41.9 41.8 42 41.9 ...\n",
      " $ end_lng           : num  -87.6 -87.7 -87.6 -87.7 -87.7 ...\n",
      " $ member_casual     : chr  \"casual\" \"casual\" \"casual\" \"casual\" ...\n",
      "'data.frame':\t259716 obs. of  13 variables:\n",
      " $ ride_id           : chr  \"BD0A6FF6FFF9B921\" \"96A7A7A4BDE4F82D\" \"C61526D06582BDC5\" \"E533E89C32080B9E\" ...\n",
      " $ rideable_type     : chr  \"electric_bike\" \"electric_bike\" \"electric_bike\" \"electric_bike\" ...\n",
      " $ started_at        : chr  \"2020-11-01 13:36:00\" \"2020-11-01 10:03:26\" \"2020-11-01 00:34:05\" \"2020-11-01 00:45:16\" ...\n",
      " $ ended_at          : chr  \"2020-11-01 13:45:40\" \"2020-11-01 10:14:45\" \"2020-11-01 01:03:06\" \"2020-11-01 00:54:31\" ...\n",
      " $ start_station_name: chr  \"Dearborn St & Erie St\" \"Franklin St & Illinois St\" \"Lake Shore Dr & Monroe St\" \"Leavitt St & Chicago Ave\" ...\n",
      " $ start_station_id  : int  110 672 76 659 2 72 76 NA 58 394 ...\n",
      " $ end_station_name  : chr  \"St. Clair St & Erie St\" \"Noble St & Milwaukee Ave\" \"Federal St & Polk St\" \"Stave St & Armitage Ave\" ...\n",
      " $ end_station_id    : int  211 29 41 185 2 76 72 NA 288 273 ...\n",
      " $ start_lat         : num  41.9 41.9 41.9 41.9 41.9 ...\n",
      " $ start_lng         : num  -87.6 -87.6 -87.6 -87.7 -87.6 ...\n",
      " $ end_lat           : num  41.9 41.9 41.9 41.9 41.9 ...\n",
      " $ end_lng           : num  -87.6 -87.7 -87.6 -87.7 -87.6 ...\n",
      " $ member_casual     : chr  \"casual\" \"casual\" \"casual\" \"casual\" ...\n",
      "'data.frame':\t131573 obs. of  13 variables:\n",
      " $ ride_id           : chr  \"70B6A9A437D4C30D\" \"158A465D4E74C54A\" \"5262016E0F1F2F9A\" \"BE119628E44F871E\" ...\n",
      " $ rideable_type     : chr  \"classic_bike\" \"electric_bike\" \"electric_bike\" \"electric_bike\" ...\n",
      " $ started_at        : chr  \"2020-12-27 12:44:29\" \"2020-12-18 17:37:15\" \"2020-12-15 15:04:33\" \"2020-12-15 15:54:18\" ...\n",
      " $ ended_at          : chr  \"2020-12-27 12:55:06\" \"2020-12-18 17:44:19\" \"2020-12-15 15:11:28\" \"2020-12-15 16:00:11\" ...\n",
      " $ start_station_name: chr  \"Aberdeen St & Jackson Blvd\" \"\" \"\" \"\" ...\n",
      " $ start_station_id  : chr  \"13157\" \"\" \"\" \"\" ...\n",
      " $ end_station_name  : chr  \"Desplaines St & Kinzie St\" \"\" \"\" \"\" ...\n",
      " $ end_station_id    : chr  \"TA1306000003\" \"\" \"\" \"\" ...\n",
      " $ start_lat         : num  41.9 41.9 41.9 41.9 41.8 ...\n",
      " $ start_lng         : num  -87.7 -87.7 -87.7 -87.7 -87.6 ...\n",
      " $ end_lat           : num  41.9 41.9 41.9 41.9 41.8 ...\n",
      " $ end_lng           : num  -87.6 -87.7 -87.7 -87.7 -87.6 ...\n",
      " $ member_casual     : chr  \"member\" \"member\" \"member\" \"member\" ...\n",
      "'data.frame':\t96834 obs. of  13 variables:\n",
      " $ ride_id           : chr  \"E19E6F1B8D4C42ED\" \"DC88F20C2C55F27F\" \"EC45C94683FE3F27\" \"4FA453A75AE377DB\" ...\n",
      " $ rideable_type     : chr  \"electric_bike\" \"electric_bike\" \"electric_bike\" \"electric_bike\" ...\n",
      " $ started_at        : chr  \"2021-01-23 16:14:19\" \"2021-01-27 18:43:08\" \"2021-01-21 22:35:54\" \"2021-01-07 13:31:13\" ...\n",
      " $ ended_at          : chr  \"2021-01-23 16:24:44\" \"2021-01-27 18:47:12\" \"2021-01-21 22:37:14\" \"2021-01-07 13:42:55\" ...\n",
      " $ start_station_name: chr  \"California Ave & Cortez St\" \"California Ave & Cortez St\" \"California Ave & Cortez St\" \"California Ave & Cortez St\" ...\n",
      " $ start_station_id  : chr  \"17660\" \"17660\" \"17660\" \"17660\" ...\n",
      " $ end_station_name  : chr  \"\" \"\" \"\" \"\" ...\n",
      " $ end_station_id    : chr  \"\" \"\" \"\" \"\" ...\n",
      " $ start_lat         : num  41.9 41.9 41.9 41.9 41.9 ...\n",
      " $ start_lng         : num  -87.7 -87.7 -87.7 -87.7 -87.7 ...\n",
      " $ end_lat           : num  41.9 41.9 41.9 41.9 41.9 ...\n",
      " $ end_lng           : num  -87.7 -87.7 -87.7 -87.7 -87.7 ...\n",
      " $ member_casual     : chr  \"member\" \"member\" \"member\" \"member\" ...\n",
      "'data.frame':\t49622 obs. of  13 variables:\n",
      " $ ride_id           : chr  \"89E7AA6C29227EFF\" \"0FEFDE2603568365\" \"E6159D746B2DBB91\" \"B32D3199F1C2E75B\" ...\n",
      " $ rideable_type     : chr  \"classic_bike\" \"classic_bike\" \"electric_bike\" \"classic_bike\" ...\n",
      " $ started_at        : chr  \"2021-02-12 16:14:56\" \"2021-02-14 17:52:38\" \"2021-02-09 19:10:18\" \"2021-02-02 17:49:41\" ...\n",
      " $ ended_at          : chr  \"2021-02-12 16:21:43\" \"2021-02-14 18:12:09\" \"2021-02-09 19:19:10\" \"2021-02-02 17:54:06\" ...\n",
      " $ start_station_name: chr  \"Glenwood Ave & Touhy Ave\" \"Glenwood Ave & Touhy Ave\" \"Clark St & Lake St\" \"Wood St & Chicago Ave\" ...\n",
      " $ start_station_id  : chr  \"525\" \"525\" \"KA1503000012\" \"637\" ...\n",
      " $ end_station_name  : chr  \"Sheridan Rd & Columbia Ave\" \"Bosworth Ave & Howard St\" \"State St & Randolph St\" \"Honore St & Division St\" ...\n",
      " $ end_station_id    : chr  \"660\" \"16806\" \"TA1305000029\" \"TA1305000034\" ...\n",
      " $ start_lat         : num  42 42 41.9 41.9 41.8 ...\n",
      " $ start_lng         : num  -87.7 -87.7 -87.6 -87.7 -87.6 ...\n",
      " $ end_lat           : num  42 42 41.9 41.9 41.8 ...\n",
      " $ end_lng           : num  -87.7 -87.7 -87.6 -87.7 -87.6 ...\n",
      " $ member_casual     : chr  \"member\" \"casual\" \"member\" \"member\" ...\n",
      "'data.frame':\t228496 obs. of  13 variables:\n",
      " $ ride_id           : chr  \"CFA86D4455AA1030\" \"30D9DC61227D1AF3\" \"846D87A15682A284\" \"994D05AA75A168F2\" ...\n",
      " $ rideable_type     : chr  \"classic_bike\" \"classic_bike\" \"classic_bike\" \"classic_bike\" ...\n",
      " $ started_at        : chr  \"2021-03-16 08:32:30\" \"2021-03-28 01:26:28\" \"2021-03-11 21:17:29\" \"2021-03-11 13:26:42\" ...\n",
      " $ ended_at          : chr  \"2021-03-16 08:36:34\" \"2021-03-28 01:36:55\" \"2021-03-11 21:33:53\" \"2021-03-11 13:55:41\" ...\n",
      " $ start_station_name: chr  \"Humboldt Blvd & Armitage Ave\" \"Humboldt Blvd & Armitage Ave\" \"Shields Ave & 28th Pl\" \"Winthrop Ave & Lawrence Ave\" ...\n",
      " $ start_station_id  : chr  \"15651\" \"15651\" \"15443\" \"TA1308000021\" ...\n",
      " $ end_station_name  : chr  \"Stave St & Armitage Ave\" \"Central Park Ave & Bloomingdale Ave\" \"Halsted St & 35th St\" \"Broadway & Sheridan Rd\" ...\n",
      " $ end_station_id    : chr  \"13266\" \"18017\" \"TA1308000043\" \"13323\" ...\n",
      " $ start_lat         : num  41.9 41.9 41.8 42 42 ...\n",
      " $ start_lng         : num  -87.7 -87.7 -87.6 -87.7 -87.7 ...\n",
      " $ end_lat           : num  41.9 41.9 41.8 42 42.1 ...\n",
      " $ end_lng           : num  -87.7 -87.7 -87.6 -87.6 -87.7 ...\n",
      " $ member_casual     : chr  \"casual\" \"casual\" \"casual\" \"casual\" ...\n"
     ]
    }
   ],
   "source": [
    "#Preview and check the structure of the data\n",
    "\n",
    "str(r_202004)\n",
    "str(r_202005)\n",
    "str(r_202006)\n",
    "str(r_202007)\n",
    "str(r_202008)\n",
    "str(r_202009)\n",
    "str(r_202010)\n",
    "str(r_202011)\n",
    "str(r_202012)\n",
    "str(r_202101)\n",
    "str(r_202102)\n",
    "str(r_202103)\n"
   ]
  },
  {
   "cell_type": "markdown",
   "id": "eb7da035",
   "metadata": {
    "papermill": {
     "duration": 0.055428,
     "end_time": "2021-09-27T16:41:24.140725",
     "exception": false,
     "start_time": "2021-09-27T16:41:24.085297",
     "status": "completed"
    },
    "tags": []
   },
   "source": [
    "From the structure I see that all 12 csvs have common attributes. Once basic data type is cleaning is done at individual dataframe, I will then merge and do further cleaning.  \n",
    "\n",
    "\n",
    "The 'started_at' and 'ended_at' attributes which represents the start and end ride time is currently set as character data type in all dataframes. I will change these 2 attributes to date data type.  \n",
    "\n",
    "Also, the 'start_station_id' and 'end_station_id' in r_202012, r_202101, r_202102 and r_202103 dataframes is currently set as character data type. I will change these to integer data type so that these 2 attribues' data type is consistent across the 12 dataframes.  \n"
   ]
  },
  {
   "cell_type": "code",
   "execution_count": 5,
   "id": "8c8a2e68",
   "metadata": {
    "execution": {
     "iopub.execute_input": "2021-09-27T16:41:24.265033Z",
     "iopub.status.busy": "2021-09-27T16:41:24.263138Z",
     "iopub.status.idle": "2021-09-27T16:41:24.490088Z",
     "shell.execute_reply": "2021-09-27T16:41:24.488044Z"
    },
    "papermill": {
     "duration": 0.292235,
     "end_time": "2021-09-27T16:41:24.490298",
     "exception": false,
     "start_time": "2021-09-27T16:41:24.198063",
     "status": "completed"
    },
    "tags": []
   },
   "outputs": [],
   "source": [
    "#Change the 'start_station_id' attribute in r_202012, r_202101, r_202102 and r_202103 dataframes to integer data type\n",
    "\n",
    "#Supress warnings\n",
    "\n",
    "options(warn=-1)\n",
    "\n",
    "r_202012$start_station_id <- as.integer(r_202012$start_station_id)\n",
    "r_202101$start_station_id <- as.integer(r_202101$start_station_id)\n",
    "r_202102$start_station_id <- as.integer(r_202102$start_station_id)\n",
    "r_202103$start_station_id <- as.integer(r_202103$start_station_id)  \n",
    "\n",
    "\n",
    "\n",
    "#Change the 'end_station_id' attribute in r_202012, r_202101, r_202102 and r_202103 dataframes to integer data type  \n",
    "\n",
    "r_202012$end_station_id <- as.integer(r_202012$end_station_id)\n",
    "r_202101$end_station_id <- as.integer(r_202101$end_station_id)\n",
    "r_202102$end_station_id <- as.integer(r_202102$end_station_id)\n",
    "r_202103$end_station_id <- as.integer(r_202103$end_station_id)\n",
    "\n",
    "\n"
   ]
  },
  {
   "cell_type": "code",
   "execution_count": 6,
   "id": "2edec2de",
   "metadata": {
    "execution": {
     "iopub.execute_input": "2021-09-27T16:41:24.609733Z",
     "iopub.status.busy": "2021-09-27T16:41:24.607374Z",
     "iopub.status.idle": "2021-09-27T16:41:30.977821Z",
     "shell.execute_reply": "2021-09-27T16:41:30.976505Z"
    },
    "papermill": {
     "duration": 6.432024,
     "end_time": "2021-09-27T16:41:30.978016",
     "exception": false,
     "start_time": "2021-09-27T16:41:24.545992",
     "status": "completed"
    },
    "tags": []
   },
   "outputs": [],
   "source": [
    " #Merge individual month's data frames into one big data frame\n",
    "\n",
    "all_trips <- bind_rows(r_202004, r_202005, r_202006, r_202007, r_202008, r_202009, r_202010, r_202011, r_202012, r_202101, r_202102, r_202103)"
   ]
  },
  {
   "cell_type": "code",
   "execution_count": 7,
   "id": "3f09fbd1",
   "metadata": {
    "execution": {
     "iopub.execute_input": "2021-09-27T16:41:31.098846Z",
     "iopub.status.busy": "2021-09-27T16:41:31.097200Z",
     "iopub.status.idle": "2021-09-27T16:41:31.160577Z",
     "shell.execute_reply": "2021-09-27T16:41:31.159087Z"
    },
    "papermill": {
     "duration": 0.124818,
     "end_time": "2021-09-27T16:41:31.160798",
     "exception": false,
     "start_time": "2021-09-27T16:41:31.035980",
     "status": "completed"
    },
    "tags": []
   },
   "outputs": [
    {
     "name": "stdout",
     "output_type": "stream",
     "text": [
      "'data.frame':\t3489748 obs. of  13 variables:\n",
      " $ ride_id           : chr  \"A847FADBBC638E45\" \"5405B80E996FF60D\" \"5DD24A79A4E006F4\" \"2A59BBDF5CDBA725\" ...\n",
      " $ rideable_type     : chr  \"docked_bike\" \"docked_bike\" \"docked_bike\" \"docked_bike\" ...\n",
      " $ started_at        : chr  \"2020-04-26 17:45:14\" \"2020-04-17 17:08:54\" \"2020-04-01 17:54:13\" \"2020-04-07 12:50:19\" ...\n",
      " $ ended_at          : chr  \"2020-04-26 18:12:03\" \"2020-04-17 17:17:03\" \"2020-04-01 18:08:36\" \"2020-04-07 13:02:31\" ...\n",
      " $ start_station_name: chr  \"Eckhart Park\" \"Drake Ave & Fullerton Ave\" \"McClurg Ct & Erie St\" \"California Ave & Division St\" ...\n",
      " $ start_station_id  : int  86 503 142 216 125 173 35 434 627 377 ...\n",
      " $ end_station_name  : chr  \"Lincoln Ave & Diversey Pkwy\" \"Kosciuszko Park\" \"Indiana Ave & Roosevelt Rd\" \"Wood St & Augusta Blvd\" ...\n",
      " $ end_station_id    : int  152 499 255 657 323 35 635 382 359 508 ...\n",
      " $ start_lat         : num  41.9 41.9 41.9 41.9 41.9 ...\n",
      " $ start_lng         : num  -87.7 -87.7 -87.6 -87.7 -87.6 ...\n",
      " $ end_lat           : num  41.9 41.9 41.9 41.9 42 ...\n",
      " $ end_lng           : num  -87.7 -87.7 -87.6 -87.7 -87.7 ...\n",
      " $ member_casual     : chr  \"member\" \"member\" \"member\" \"member\" ...\n",
      "Rows: 3,489,748\n",
      "Columns: 13\n",
      "$ ride_id            \u001b[3m\u001b[90m<chr>\u001b[39m\u001b[23m \"A847FADBBC638E45\", \"5405B80E996FF60D\", \"5DD24A79A4…\n",
      "$ rideable_type      \u001b[3m\u001b[90m<chr>\u001b[39m\u001b[23m \"docked_bike\", \"docked_bike\", \"docked_bike\", \"docke…\n",
      "$ started_at         \u001b[3m\u001b[90m<chr>\u001b[39m\u001b[23m \"2020-04-26 17:45:14\", \"2020-04-17 17:08:54\", \"2020…\n",
      "$ ended_at           \u001b[3m\u001b[90m<chr>\u001b[39m\u001b[23m \"2020-04-26 18:12:03\", \"2020-04-17 17:17:03\", \"2020…\n",
      "$ start_station_name \u001b[3m\u001b[90m<chr>\u001b[39m\u001b[23m \"Eckhart Park\", \"Drake Ave & Fullerton Ave\", \"McClu…\n",
      "$ start_station_id   \u001b[3m\u001b[90m<int>\u001b[39m\u001b[23m 86, 503, 142, 216, 125, 173, 35, 434, 627, 377, 508…\n",
      "$ end_station_name   \u001b[3m\u001b[90m<chr>\u001b[39m\u001b[23m \"Lincoln Ave & Diversey Pkwy\", \"Kosciuszko Park\", \"…\n",
      "$ end_station_id     \u001b[3m\u001b[90m<int>\u001b[39m\u001b[23m 152, 499, 255, 657, 323, 35, 635, 382, 359, 508, 37…\n",
      "$ start_lat          \u001b[3m\u001b[90m<dbl>\u001b[39m\u001b[23m 41.8964, 41.9244, 41.8945, 41.9030, 41.8902, 41.896…\n",
      "$ start_lng          \u001b[3m\u001b[90m<dbl>\u001b[39m\u001b[23m -87.6610, -87.7154, -87.6179, -87.6975, -87.6262, -…\n",
      "$ end_lat            \u001b[3m\u001b[90m<dbl>\u001b[39m\u001b[23m 41.9322, 41.9306, 41.8679, 41.8992, 41.9695, 41.892…\n",
      "$ end_lng            \u001b[3m\u001b[90m<dbl>\u001b[39m\u001b[23m -87.6586, -87.7238, -87.6230, -87.6722, -87.6547, -…\n",
      "$ member_casual      \u001b[3m\u001b[90m<chr>\u001b[39m\u001b[23m \"member\", \"member\", \"member\", \"member\", \"casual\", \"…\n"
     ]
    },
    {
     "data": {
      "text/html": [
       "3489748"
      ],
      "text/latex": [
       "3489748"
      ],
      "text/markdown": [
       "3489748"
      ],
      "text/plain": [
       "[1] 3489748"
      ]
     },
     "metadata": {},
     "output_type": "display_data"
    }
   ],
   "source": [
    "#Check the structure and get a glimpse of the consolidated data frame\n",
    "\n",
    "str(all_trips)\n",
    "\n",
    "glimpse(all_trips)\n",
    "\n",
    "nrow(all_trips)"
   ]
  },
  {
   "cell_type": "code",
   "execution_count": 8,
   "id": "ce6aeeb6",
   "metadata": {
    "execution": {
     "iopub.execute_input": "2021-09-27T16:41:31.281299Z",
     "iopub.status.busy": "2021-09-27T16:41:31.279943Z",
     "iopub.status.idle": "2021-09-27T16:41:57.672700Z",
     "shell.execute_reply": "2021-09-27T16:41:57.671285Z"
    },
    "papermill": {
     "duration": 26.454557,
     "end_time": "2021-09-27T16:41:57.672874",
     "exception": false,
     "start_time": "2021-09-27T16:41:31.218317",
     "status": "completed"
    },
    "tags": []
   },
   "outputs": [],
   "source": [
    "# Add columns that list the date, month, day, and year of each ride\n",
    "# This will allow to aggregate ride data for each month, day, or year \n",
    "\n",
    "\n",
    "all_trips$date <- as.Date(all_trips$started_at)\n",
    "all_trips$month <- format(as.Date(all_trips$date), \"%B\")\n",
    "all_trips$day <- format(as.Date(all_trips$date), \"%d\")\n",
    "all_trips$year <- format(as.Date(all_trips$date), \"%Y\")\n",
    "all_trips$day_of_week <- weekdays(all_trips$date)\n"
   ]
  },
  {
   "cell_type": "code",
   "execution_count": 9,
   "id": "10bbfa50",
   "metadata": {
    "execution": {
     "iopub.execute_input": "2021-09-27T16:41:57.792678Z",
     "iopub.status.busy": "2021-09-27T16:41:57.790937Z",
     "iopub.status.idle": "2021-09-27T16:41:57.996661Z",
     "shell.execute_reply": "2021-09-27T16:41:57.994876Z"
    },
    "papermill": {
     "duration": 0.267326,
     "end_time": "2021-09-27T16:41:57.996808",
     "exception": false,
     "start_time": "2021-09-27T16:41:57.729482",
     "status": "completed"
    },
    "tags": []
   },
   "outputs": [
    {
     "data": {
      "text/html": [
       "<style>\n",
       ".list-inline {list-style: none; margin:0; padding: 0}\n",
       ".list-inline>li {display: inline-block}\n",
       ".list-inline>li:not(:last-child)::after {content: \"\\00b7\"; padding: 0 .5ex}\n",
       "</style>\n",
       "<ol class=list-inline><li>'member'</li><li>'casual'</li></ol>\n"
      ],
      "text/latex": [
       "\\begin{enumerate*}\n",
       "\\item 'member'\n",
       "\\item 'casual'\n",
       "\\end{enumerate*}\n"
      ],
      "text/markdown": [
       "1. 'member'\n",
       "2. 'casual'\n",
       "\n",
       "\n"
      ],
      "text/plain": [
       "[1] \"member\" \"casual\""
      ]
     },
     "metadata": {},
     "output_type": "display_data"
    },
    {
     "data": {
      "text/html": [
       "<style>\n",
       ".list-inline {list-style: none; margin:0; padding: 0}\n",
       ".list-inline>li {display: inline-block}\n",
       ".list-inline>li:not(:last-child)::after {content: \"\\00b7\"; padding: 0 .5ex}\n",
       "</style>\n",
       "<ol class=list-inline><li>'docked_bike'</li><li>'electric_bike'</li><li>'classic_bike'</li></ol>\n"
      ],
      "text/latex": [
       "\\begin{enumerate*}\n",
       "\\item 'docked\\_bike'\n",
       "\\item 'electric\\_bike'\n",
       "\\item 'classic\\_bike'\n",
       "\\end{enumerate*}\n"
      ],
      "text/markdown": [
       "1. 'docked_bike'\n",
       "2. 'electric_bike'\n",
       "3. 'classic_bike'\n",
       "\n",
       "\n"
      ],
      "text/plain": [
       "[1] \"docked_bike\"   \"electric_bike\" \"classic_bike\" "
      ]
     },
     "metadata": {},
     "output_type": "display_data"
    }
   ],
   "source": [
    "#Check member_casual and rideable_type column to if there are any discrepancies on the rider and bike type\n",
    "\n",
    "unique(all_trips$member_casual)\n",
    "\n",
    "unique(all_trips$rideable_type)\n"
   ]
  },
  {
   "cell_type": "markdown",
   "id": "27022380",
   "metadata": {
    "papermill": {
     "duration": 0.060537,
     "end_time": "2021-09-27T16:41:58.114569",
     "exception": false,
     "start_time": "2021-09-27T16:41:58.054032",
     "status": "completed"
    },
    "tags": []
   },
   "source": [
    "The observations have proper values in these 2 columns"
   ]
  },
  {
   "cell_type": "code",
   "execution_count": 10,
   "id": "b0984a59",
   "metadata": {
    "execution": {
     "iopub.execute_input": "2021-09-27T16:41:58.238104Z",
     "iopub.status.busy": "2021-09-27T16:41:58.236524Z",
     "iopub.status.idle": "2021-09-27T16:42:04.866530Z",
     "shell.execute_reply": "2021-09-27T16:42:04.864922Z"
    },
    "papermill": {
     "duration": 6.69418,
     "end_time": "2021-09-27T16:42:04.866708",
     "exception": false,
     "start_time": "2021-09-27T16:41:58.172528",
     "status": "completed"
    },
    "tags": []
   },
   "outputs": [],
   "source": [
    "#Remove observations with NA\n",
    "\n",
    "all_trips <- drop_na(all_trips)\n"
   ]
  },
  {
   "cell_type": "code",
   "execution_count": 11,
   "id": "3af882a7",
   "metadata": {
    "execution": {
     "iopub.execute_input": "2021-09-27T16:42:04.991154Z",
     "iopub.status.busy": "2021-09-27T16:42:04.989583Z",
     "iopub.status.idle": "2021-09-27T16:42:06.111082Z",
     "shell.execute_reply": "2021-09-27T16:42:06.109317Z"
    },
    "papermill": {
     "duration": 1.185732,
     "end_time": "2021-09-27T16:42:06.111249",
     "exception": false,
     "start_time": "2021-09-27T16:42:04.925517",
     "status": "completed"
    },
    "tags": []
   },
   "outputs": [
    {
     "data": {
      "text/html": [
       "<style>\n",
       ".list-inline {list-style: none; margin:0; padding: 0}\n",
       ".list-inline>li {display: inline-block}\n",
       ".list-inline>li:not(:last-child)::after {content: \"\\00b7\"; padding: 0 .5ex}\n",
       "</style>\n",
       "<ol class=list-inline><li>'HUBBARD ST BIKE CHECKING (LBS-WH-TEST)'</li><li>'WATSON TESTING - DIVVY'</li></ol>\n"
      ],
      "text/latex": [
       "\\begin{enumerate*}\n",
       "\\item 'HUBBARD ST BIKE CHECKING (LBS-WH-TEST)'\n",
       "\\item 'WATSON TESTING - DIVVY'\n",
       "\\end{enumerate*}\n"
      ],
      "text/markdown": [
       "1. 'HUBBARD ST BIKE CHECKING (LBS-WH-TEST)'\n",
       "2. 'WATSON TESTING - DIVVY'\n",
       "\n",
       "\n"
      ],
      "text/plain": [
       "[1] \"HUBBARD ST BIKE CHECKING (LBS-WH-TEST)\"\n",
       "[2] \"WATSON TESTING - DIVVY\"                "
      ]
     },
     "metadata": {},
     "output_type": "display_data"
    }
   ],
   "source": [
    "#Check for test stations\n",
    "\n",
    "unique(all_trips$start_station_name[grep(\"TEST\", all_trips$start_station_name)])\n"
   ]
  },
  {
   "cell_type": "code",
   "execution_count": 12,
   "id": "b124e81e",
   "metadata": {
    "execution": {
     "iopub.execute_input": "2021-09-27T16:42:06.235801Z",
     "iopub.status.busy": "2021-09-27T16:42:06.234089Z",
     "iopub.status.idle": "2021-09-27T16:42:07.403479Z",
     "shell.execute_reply": "2021-09-27T16:42:07.402080Z"
    },
    "papermill": {
     "duration": 1.232715,
     "end_time": "2021-09-27T16:42:07.403673",
     "exception": false,
     "start_time": "2021-09-27T16:42:06.170958",
     "status": "completed"
    },
    "tags": []
   },
   "outputs": [
    {
     "data": {
      "text/html": [],
      "text/latex": [],
      "text/markdown": [],
      "text/plain": [
       "character(0)"
      ]
     },
     "metadata": {},
     "output_type": "display_data"
    }
   ],
   "source": [
    "#Check for test stations\n",
    "unique(all_trips$start_station_name[grep(\"test\", all_trips$start_station_name)])"
   ]
  },
  {
   "cell_type": "code",
   "execution_count": 13,
   "id": "05e47f6f",
   "metadata": {
    "execution": {
     "iopub.execute_input": "2021-09-27T16:42:07.529639Z",
     "iopub.status.busy": "2021-09-27T16:42:07.528202Z",
     "iopub.status.idle": "2021-09-27T16:42:07.799802Z",
     "shell.execute_reply": "2021-09-27T16:42:07.798470Z"
    },
    "papermill": {
     "duration": 0.336002,
     "end_time": "2021-09-27T16:42:07.799975",
     "exception": false,
     "start_time": "2021-09-27T16:42:07.463973",
     "status": "completed"
    },
    "tags": []
   },
   "outputs": [],
   "source": [
    "#Remove the test stations and any stations with blank\n",
    "\n",
    "all_trips <- (filter(all_trips, !(start_station_name == \"WATSON TESTING - DIVVY\" | start_station_name == \"HUBBARD ST BIKE CHECKING (LBS-WH-TEST)\" | start_station_name ==\"hubbard_test_lws\" | start_station_name ==\"\")))"
   ]
  },
  {
   "cell_type": "code",
   "execution_count": 14,
   "id": "06f5b3fc",
   "metadata": {
    "execution": {
     "iopub.execute_input": "2021-09-27T16:42:07.926000Z",
     "iopub.status.busy": "2021-09-27T16:42:07.924654Z",
     "iopub.status.idle": "2021-09-27T16:42:07.938068Z",
     "shell.execute_reply": "2021-09-27T16:42:07.936953Z"
    },
    "papermill": {
     "duration": 0.077323,
     "end_time": "2021-09-27T16:42:07.938266",
     "exception": false,
     "start_time": "2021-09-27T16:42:07.860943",
     "status": "completed"
    },
    "tags": []
   },
   "outputs": [],
   "source": [
    "#Create a data frame of stations with start station name and latitude and longitude. I will use this data frame while analyzing the popular top 10 stations\n",
    "\n",
    "all_trips_stations <- all_trips[,c(5,9,10)]"
   ]
  },
  {
   "cell_type": "code",
   "execution_count": 15,
   "id": "d3d11544",
   "metadata": {
    "execution": {
     "iopub.execute_input": "2021-09-27T16:42:08.068432Z",
     "iopub.status.busy": "2021-09-27T16:42:08.065130Z",
     "iopub.status.idle": "2021-09-27T16:42:08.145667Z",
     "shell.execute_reply": "2021-09-27T16:42:08.144462Z"
    },
    "papermill": {
     "duration": 0.14822,
     "end_time": "2021-09-27T16:42:08.145841",
     "exception": false,
     "start_time": "2021-09-27T16:42:07.997621",
     "status": "completed"
    },
    "tags": []
   },
   "outputs": [],
   "source": [
    "#Remove duplicates based on the station name\n",
    "\n",
    "all_trips_stations <- all_trips_stations[!duplicated(all_trips_stations$start_station_name),]"
   ]
  },
  {
   "cell_type": "code",
   "execution_count": 16,
   "id": "8b846dc0",
   "metadata": {
    "execution": {
     "iopub.execute_input": "2021-09-27T16:42:08.270257Z",
     "iopub.status.busy": "2021-09-27T16:42:08.268831Z",
     "iopub.status.idle": "2021-09-27T16:42:08.288655Z",
     "shell.execute_reply": "2021-09-27T16:42:08.286809Z"
    },
    "papermill": {
     "duration": 0.083701,
     "end_time": "2021-09-27T16:42:08.288849",
     "exception": false,
     "start_time": "2021-09-27T16:42:08.205148",
     "status": "completed"
    },
    "tags": []
   },
   "outputs": [
    {
     "data": {
      "text/html": [
       "696"
      ],
      "text/latex": [
       "696"
      ],
      "text/markdown": [
       "696"
      ],
      "text/plain": [
       "[1] 696"
      ]
     },
     "metadata": {},
     "output_type": "display_data"
    }
   ],
   "source": [
    "#Find total stations\n",
    "\n",
    "NROW(unique(all_trips_stations))"
   ]
  },
  {
   "cell_type": "code",
   "execution_count": 17,
   "id": "a6693f7c",
   "metadata": {
    "execution": {
     "iopub.execute_input": "2021-09-27T16:42:08.415057Z",
     "iopub.status.busy": "2021-09-27T16:42:08.413199Z",
     "iopub.status.idle": "2021-09-27T16:42:31.638791Z",
     "shell.execute_reply": "2021-09-27T16:42:31.636973Z"
    },
    "papermill": {
     "duration": 23.290382,
     "end_time": "2021-09-27T16:42:31.639102",
     "exception": false,
     "start_time": "2021-09-27T16:42:08.348720",
     "status": "completed"
    },
    "tags": []
   },
   "outputs": [],
   "source": [
    "#Calculate the ride length and convert it to Minutes\n",
    "\n",
    "all_trips$ride_length <- difftime(all_trips$ended_at, all_trips$started_at)\n",
    "\n",
    "all_trips$ride_length <- all_trips$ride_length/60\n",
    "\n",
    "all_trips$ride_length <- round(all_trips$ride_length, 2)\n"
   ]
  },
  {
   "cell_type": "code",
   "execution_count": 18,
   "id": "79fa27f7",
   "metadata": {
    "execution": {
     "iopub.execute_input": "2021-09-27T16:42:31.765678Z",
     "iopub.status.busy": "2021-09-27T16:42:31.763891Z",
     "iopub.status.idle": "2021-09-27T16:42:31.811722Z",
     "shell.execute_reply": "2021-09-27T16:42:31.810318Z"
    },
    "papermill": {
     "duration": 0.113024,
     "end_time": "2021-09-27T16:42:31.811864",
     "exception": false,
     "start_time": "2021-09-27T16:42:31.698840",
     "status": "completed"
    },
    "tags": []
   },
   "outputs": [
    {
     "name": "stdout",
     "output_type": "stream",
     "text": [
      "'data.frame':\t2941502 obs. of  19 variables:\n",
      " $ ride_id           : chr  \"A847FADBBC638E45\" \"5405B80E996FF60D\" \"5DD24A79A4E006F4\" \"2A59BBDF5CDBA725\" ...\n",
      " $ rideable_type     : chr  \"docked_bike\" \"docked_bike\" \"docked_bike\" \"docked_bike\" ...\n",
      " $ started_at        : chr  \"2020-04-26 17:45:14\" \"2020-04-17 17:08:54\" \"2020-04-01 17:54:13\" \"2020-04-07 12:50:19\" ...\n",
      " $ ended_at          : chr  \"2020-04-26 18:12:03\" \"2020-04-17 17:17:03\" \"2020-04-01 18:08:36\" \"2020-04-07 13:02:31\" ...\n",
      " $ start_station_name: chr  \"Eckhart Park\" \"Drake Ave & Fullerton Ave\" \"McClurg Ct & Erie St\" \"California Ave & Division St\" ...\n",
      " $ start_station_id  : int  86 503 142 216 125 173 35 434 627 377 ...\n",
      " $ end_station_name  : chr  \"Lincoln Ave & Diversey Pkwy\" \"Kosciuszko Park\" \"Indiana Ave & Roosevelt Rd\" \"Wood St & Augusta Blvd\" ...\n",
      " $ end_station_id    : int  152 499 255 657 323 35 635 382 359 508 ...\n",
      " $ start_lat         : num  41.9 41.9 41.9 41.9 41.9 ...\n",
      " $ start_lng         : num  -87.7 -87.7 -87.6 -87.7 -87.6 ...\n",
      " $ end_lat           : num  41.9 41.9 41.9 41.9 42 ...\n",
      " $ end_lng           : num  -87.7 -87.7 -87.6 -87.7 -87.7 ...\n",
      " $ member_casual     : chr  \"member\" \"member\" \"member\" \"member\" ...\n",
      " $ date              : Date, format: \"2020-04-26\" \"2020-04-17\" ...\n",
      " $ month             : chr  \"April\" \"April\" \"April\" \"April\" ...\n",
      " $ day               : chr  \"26\" \"17\" \"01\" \"07\" ...\n",
      " $ year              : chr  \"2020\" \"2020\" \"2020\" \"2020\" ...\n",
      " $ day_of_week       : chr  \"Sunday\" \"Friday\" \"Wednesday\" \"Tuesday\" ...\n",
      " $ ride_length       : 'difftime' num  26.82 8.15 14.38 12.2 ...\n",
      "  ..- attr(*, \"units\")= chr \"secs\"\n"
     ]
    }
   ],
   "source": [
    "# Inspect the structure of the columns\n",
    "\n",
    "str(all_trips)\n"
   ]
  },
  {
   "cell_type": "code",
   "execution_count": 19,
   "id": "4ff6cbdf",
   "metadata": {
    "execution": {
     "iopub.execute_input": "2021-09-27T16:42:31.940468Z",
     "iopub.status.busy": "2021-09-27T16:42:31.938771Z",
     "iopub.status.idle": "2021-09-27T16:42:35.849479Z",
     "shell.execute_reply": "2021-09-27T16:42:35.848390Z"
    },
    "papermill": {
     "duration": 3.97519,
     "end_time": "2021-09-27T16:42:35.849676",
     "exception": false,
     "start_time": "2021-09-27T16:42:31.874486",
     "status": "completed"
    },
    "tags": []
   },
   "outputs": [],
   "source": [
    "# Converting \"ride_length\" to numeric so that I can run calculations on the data\n",
    "\n",
    "all_trips$ride_length <- as.numeric(as.character(all_trips$ride_length))\n",
    "\n"
   ]
  },
  {
   "cell_type": "code",
   "execution_count": 20,
   "id": "52d20bd4",
   "metadata": {
    "execution": {
     "iopub.execute_input": "2021-09-27T16:42:35.977353Z",
     "iopub.status.busy": "2021-09-27T16:42:35.975935Z",
     "iopub.status.idle": "2021-09-27T16:42:36.184821Z",
     "shell.execute_reply": "2021-09-27T16:42:36.183361Z"
    },
    "papermill": {
     "duration": 0.273552,
     "end_time": "2021-09-27T16:42:36.184982",
     "exception": false,
     "start_time": "2021-09-27T16:42:35.911430",
     "status": "completed"
    },
    "tags": []
   },
   "outputs": [],
   "source": [
    "#Remove observations where the ride length is less than 0\n",
    "\n",
    "all_trips <- filter(all_trips, ride_length > 0)"
   ]
  },
  {
   "cell_type": "code",
   "execution_count": 21,
   "id": "e209defe",
   "metadata": {
    "execution": {
     "iopub.execute_input": "2021-09-27T16:42:36.311687Z",
     "iopub.status.busy": "2021-09-27T16:42:36.310050Z",
     "iopub.status.idle": "2021-09-27T16:42:37.752440Z",
     "shell.execute_reply": "2021-09-27T16:42:37.750427Z"
    },
    "papermill": {
     "duration": 1.507561,
     "end_time": "2021-09-27T16:42:37.752661",
     "exception": false,
     "start_time": "2021-09-27T16:42:36.245100",
     "status": "completed"
    },
    "tags": []
   },
   "outputs": [
    {
     "data": {
      "text/plain": [
       "    Min.  1st Qu.   Median     Mean  3rd Qu.     Max. \n",
       "    0.02     8.45    15.42    29.28    27.82 58720.03 "
      ]
     },
     "metadata": {},
     "output_type": "display_data"
    },
    {
     "data": {
      "text/html": [
       "<table class=\"dataframe\">\n",
       "<caption>A tibble: 2 × 5</caption>\n",
       "<thead>\n",
       "\t<tr><th scope=col>member_casual</th><th scope=col>avg_ride_lenth</th><th scope=col>median_ride_length</th><th scope=col>max_ride_length</th><th scope=col>min_ride_length</th></tr>\n",
       "\t<tr><th scope=col>&lt;chr&gt;</th><th scope=col>&lt;dbl&gt;</th><th scope=col>&lt;dbl&gt;</th><th scope=col>&lt;dbl&gt;</th><th scope=col>&lt;dbl&gt;</th></tr>\n",
       "</thead>\n",
       "<tbody>\n",
       "\t<tr><td>casual</td><td>46.52125</td><td>22.18</td><td>55683.88</td><td>0.02</td></tr>\n",
       "\t<tr><td>member</td><td>16.40665</td><td>12.02</td><td>58720.03</td><td>0.02</td></tr>\n",
       "</tbody>\n",
       "</table>\n"
      ],
      "text/latex": [
       "A tibble: 2 × 5\n",
       "\\begin{tabular}{lllll}\n",
       " member\\_casual & avg\\_ride\\_lenth & median\\_ride\\_length & max\\_ride\\_length & min\\_ride\\_length\\\\\n",
       " <chr> & <dbl> & <dbl> & <dbl> & <dbl>\\\\\n",
       "\\hline\n",
       "\t casual & 46.52125 & 22.18 & 55683.88 & 0.02\\\\\n",
       "\t member & 16.40665 & 12.02 & 58720.03 & 0.02\\\\\n",
       "\\end{tabular}\n"
      ],
      "text/markdown": [
       "\n",
       "A tibble: 2 × 5\n",
       "\n",
       "| member_casual &lt;chr&gt; | avg_ride_lenth &lt;dbl&gt; | median_ride_length &lt;dbl&gt; | max_ride_length &lt;dbl&gt; | min_ride_length &lt;dbl&gt; |\n",
       "|---|---|---|---|---|\n",
       "| casual | 46.52125 | 22.18 | 55683.88 | 0.02 |\n",
       "| member | 16.40665 | 12.02 | 58720.03 | 0.02 |\n",
       "\n"
      ],
      "text/plain": [
       "  member_casual avg_ride_lenth median_ride_length max_ride_length\n",
       "1 casual        46.52125       22.18              55683.88       \n",
       "2 member        16.40665       12.02              58720.03       \n",
       "  min_ride_length\n",
       "1 0.02           \n",
       "2 0.02           "
      ]
     },
     "metadata": {},
     "output_type": "display_data"
    }
   ],
   "source": [
    "# Find the overall ride_lenth min, max, mean and median by rider type\n",
    "\n",
    "summary(all_trips$ride_length)\n",
    "\n",
    "# Compare members and casual users\n",
    "all_trips %>% \n",
    "  group_by(member_casual) %>% \n",
    "  summarise(avg_ride_lenth = mean(ride_length), median_ride_length = median(ride_length), max_ride_length = max(ride_length), min_ride_length = min(ride_length))"
   ]
  },
  {
   "cell_type": "code",
   "execution_count": 22,
   "id": "15493428",
   "metadata": {
    "execution": {
     "iopub.execute_input": "2021-09-27T16:42:37.884371Z",
     "iopub.status.busy": "2021-09-27T16:42:37.882219Z",
     "iopub.status.idle": "2021-09-27T16:42:38.004342Z",
     "shell.execute_reply": "2021-09-27T16:42:38.002444Z"
    },
    "papermill": {
     "duration": 0.190492,
     "end_time": "2021-09-27T16:42:38.004533",
     "exception": false,
     "start_time": "2021-09-27T16:42:37.814041",
     "status": "completed"
    },
    "tags": []
   },
   "outputs": [],
   "source": [
    "# Order the days of the week. Will also order the month\n",
    "\n",
    "all_trips$day_of_week <- ordered(all_trips$day_of_week, levels=c(\"Sunday\", \"Monday\", \"Tuesday\", \"Wednesday\", \"Thursday\", \"Friday\", \"Saturday\"))\n",
    "\n",
    "all_trips$month <- ordered(all_trips$month, levels=c(\"January\", \"February\", \"March\", \"April\", \"May\", \"June\", \"July\", \"August\", \"September\", \"October\", \"November\", \"December\"))"
   ]
  },
  {
   "cell_type": "code",
   "execution_count": 23,
   "id": "c77288da",
   "metadata": {
    "execution": {
     "iopub.execute_input": "2021-09-27T16:42:38.140565Z",
     "iopub.status.busy": "2021-09-27T16:42:38.138551Z",
     "iopub.status.idle": "2021-09-27T16:42:41.647253Z",
     "shell.execute_reply": "2021-09-27T16:42:41.645529Z"
    },
    "papermill": {
     "duration": 3.577182,
     "end_time": "2021-09-27T16:42:41.647406",
     "exception": false,
     "start_time": "2021-09-27T16:42:38.070224",
     "status": "completed"
    },
    "tags": []
   },
   "outputs": [
    {
     "data": {
      "text/html": [
       "<table class=\"dataframe\">\n",
       "<caption>A data.frame: 14 × 3</caption>\n",
       "<thead>\n",
       "\t<tr><th scope=col>all_trips$member_casual</th><th scope=col>all_trips$day_of_week</th><th scope=col>all_trips$ride_length</th></tr>\n",
       "\t<tr><th scope=col>&lt;chr&gt;</th><th scope=col>&lt;ord&gt;</th><th scope=col>&lt;dbl&gt;</th></tr>\n",
       "</thead>\n",
       "<tbody>\n",
       "\t<tr><td>casual</td><td>Sunday   </td><td>52.15010</td></tr>\n",
       "\t<tr><td>member</td><td>Sunday   </td><td>18.63380</td></tr>\n",
       "\t<tr><td>casual</td><td>Monday   </td><td>46.94163</td></tr>\n",
       "\t<tr><td>member</td><td>Monday   </td><td>15.50413</td></tr>\n",
       "\t<tr><td>casual</td><td>Tuesday  </td><td>42.10003</td></tr>\n",
       "\t<tr><td>member</td><td>Tuesday  </td><td>15.43946</td></tr>\n",
       "\t<tr><td>casual</td><td>Wednesday</td><td>42.21735</td></tr>\n",
       "\t<tr><td>member</td><td>Wednesday</td><td>15.49720</td></tr>\n",
       "\t<tr><td>casual</td><td>Thursday </td><td>44.85139</td></tr>\n",
       "\t<tr><td>member</td><td>Thursday </td><td>15.48254</td></tr>\n",
       "\t<tr><td>casual</td><td>Friday   </td><td>44.28151</td></tr>\n",
       "\t<tr><td>member</td><td>Friday   </td><td>16.02910</td></tr>\n",
       "\t<tr><td>casual</td><td>Saturday </td><td>48.00692</td></tr>\n",
       "\t<tr><td>member</td><td>Saturday </td><td>18.17256</td></tr>\n",
       "</tbody>\n",
       "</table>\n"
      ],
      "text/latex": [
       "A data.frame: 14 × 3\n",
       "\\begin{tabular}{lll}\n",
       " all\\_trips\\$member\\_casual & all\\_trips\\$day\\_of\\_week & all\\_trips\\$ride\\_length\\\\\n",
       " <chr> & <ord> & <dbl>\\\\\n",
       "\\hline\n",
       "\t casual & Sunday    & 52.15010\\\\\n",
       "\t member & Sunday    & 18.63380\\\\\n",
       "\t casual & Monday    & 46.94163\\\\\n",
       "\t member & Monday    & 15.50413\\\\\n",
       "\t casual & Tuesday   & 42.10003\\\\\n",
       "\t member & Tuesday   & 15.43946\\\\\n",
       "\t casual & Wednesday & 42.21735\\\\\n",
       "\t member & Wednesday & 15.49720\\\\\n",
       "\t casual & Thursday  & 44.85139\\\\\n",
       "\t member & Thursday  & 15.48254\\\\\n",
       "\t casual & Friday    & 44.28151\\\\\n",
       "\t member & Friday    & 16.02910\\\\\n",
       "\t casual & Saturday  & 48.00692\\\\\n",
       "\t member & Saturday  & 18.17256\\\\\n",
       "\\end{tabular}\n"
      ],
      "text/markdown": [
       "\n",
       "A data.frame: 14 × 3\n",
       "\n",
       "| all_trips$member_casual &lt;chr&gt; | all_trips$day_of_week &lt;ord&gt; | all_trips$ride_length &lt;dbl&gt; |\n",
       "|---|---|---|\n",
       "| casual | Sunday    | 52.15010 |\n",
       "| member | Sunday    | 18.63380 |\n",
       "| casual | Monday    | 46.94163 |\n",
       "| member | Monday    | 15.50413 |\n",
       "| casual | Tuesday   | 42.10003 |\n",
       "| member | Tuesday   | 15.43946 |\n",
       "| casual | Wednesday | 42.21735 |\n",
       "| member | Wednesday | 15.49720 |\n",
       "| casual | Thursday  | 44.85139 |\n",
       "| member | Thursday  | 15.48254 |\n",
       "| casual | Friday    | 44.28151 |\n",
       "| member | Friday    | 16.02910 |\n",
       "| casual | Saturday  | 48.00692 |\n",
       "| member | Saturday  | 18.17256 |\n",
       "\n"
      ],
      "text/plain": [
       "   all_trips$member_casual all_trips$day_of_week all_trips$ride_length\n",
       "1  casual                  Sunday                52.15010             \n",
       "2  member                  Sunday                18.63380             \n",
       "3  casual                  Monday                46.94163             \n",
       "4  member                  Monday                15.50413             \n",
       "5  casual                  Tuesday               42.10003             \n",
       "6  member                  Tuesday               15.43946             \n",
       "7  casual                  Wednesday             42.21735             \n",
       "8  member                  Wednesday             15.49720             \n",
       "9  casual                  Thursday              44.85139             \n",
       "10 member                  Thursday              15.48254             \n",
       "11 casual                  Friday                44.28151             \n",
       "12 member                  Friday                16.02910             \n",
       "13 casual                  Saturday              48.00692             \n",
       "14 member                  Saturday              18.17256             "
      ]
     },
     "metadata": {},
     "output_type": "display_data"
    }
   ],
   "source": [
    "# Check the average ride time by each day for members vs casual users\n",
    "\n",
    "aggregate(all_trips$ride_length ~ all_trips$member_casual + all_trips$day_of_week, FUN = mean)"
   ]
  },
  {
   "cell_type": "code",
   "execution_count": 24,
   "id": "65ad53b4",
   "metadata": {
    "execution": {
     "iopub.execute_input": "2021-09-27T16:42:41.776976Z",
     "iopub.status.busy": "2021-09-27T16:42:41.775113Z",
     "iopub.status.idle": "2021-09-27T16:42:41.971556Z",
     "shell.execute_reply": "2021-09-27T16:42:41.969994Z"
    },
    "papermill": {
     "duration": 0.262502,
     "end_time": "2021-09-27T16:42:41.971731",
     "exception": false,
     "start_time": "2021-09-27T16:42:41.709229",
     "status": "completed"
    },
    "tags": []
   },
   "outputs": [
    {
     "name": "stderr",
     "output_type": "stream",
     "text": [
      "`summarise()` has grouped output by 'member_casual'. You can override using the `.groups` argument.\n",
      "\n"
     ]
    }
   ],
   "source": [
    "#All rides by day of the week and type of rider\n",
    "\n",
    "all_trips_by_day <- all_trips %>% \n",
    "  group_by(member_casual, day_of_week) %>% \n",
    "  summarise(number_of_rides = n(), average_duration = mean(ride_length)) %>%\n",
    "  arrange(member_casual, day_of_week)"
   ]
  },
  {
   "cell_type": "code",
   "execution_count": 25,
   "id": "1219be16",
   "metadata": {
    "execution": {
     "iopub.execute_input": "2021-09-27T16:42:42.106084Z",
     "iopub.status.busy": "2021-09-27T16:42:42.104230Z",
     "iopub.status.idle": "2021-09-27T16:42:42.134933Z",
     "shell.execute_reply": "2021-09-27T16:42:42.133324Z"
    },
    "papermill": {
     "duration": 0.100666,
     "end_time": "2021-09-27T16:42:42.135074",
     "exception": false,
     "start_time": "2021-09-27T16:42:42.034408",
     "status": "completed"
    },
    "tags": []
   },
   "outputs": [
    {
     "data": {
      "text/html": [
       "<table class=\"dataframe\">\n",
       "<caption>A grouped_df: 14 × 4</caption>\n",
       "<thead>\n",
       "\t<tr><th scope=col>member_casual</th><th scope=col>day_of_week</th><th scope=col>number_of_rides</th><th scope=col>average_duration</th></tr>\n",
       "\t<tr><th scope=col>&lt;chr&gt;</th><th scope=col>&lt;ord&gt;</th><th scope=col>&lt;int&gt;</th><th scope=col>&lt;dbl&gt;</th></tr>\n",
       "</thead>\n",
       "<tbody>\n",
       "\t<tr><td>casual</td><td>Sunday   </td><td>232258</td><td>52.15010</td></tr>\n",
       "\t<tr><td>casual</td><td>Monday   </td><td>129858</td><td>46.94163</td></tr>\n",
       "\t<tr><td>casual</td><td>Tuesday  </td><td>124569</td><td>42.10003</td></tr>\n",
       "\t<tr><td>casual</td><td>Wednesday</td><td>137174</td><td>42.21735</td></tr>\n",
       "\t<tr><td>casual</td><td>Thursday </td><td>146905</td><td>44.85139</td></tr>\n",
       "\t<tr><td>casual</td><td>Friday   </td><td>185810</td><td>44.28151</td></tr>\n",
       "\t<tr><td>casual</td><td>Saturday </td><td>296613</td><td>48.00692</td></tr>\n",
       "\t<tr><td>member</td><td>Sunday   </td><td>220331</td><td>18.63380</td></tr>\n",
       "\t<tr><td>member</td><td>Monday   </td><td>215008</td><td>15.50413</td></tr>\n",
       "\t<tr><td>member</td><td>Tuesday  </td><td>227299</td><td>15.43946</td></tr>\n",
       "\t<tr><td>member</td><td>Wednesday</td><td>246641</td><td>15.49720</td></tr>\n",
       "\t<tr><td>member</td><td>Thursday </td><td>247449</td><td>15.48254</td></tr>\n",
       "\t<tr><td>member</td><td>Friday   </td><td>253890</td><td>16.02910</td></tr>\n",
       "\t<tr><td>member</td><td>Saturday </td><td>267292</td><td>18.17256</td></tr>\n",
       "</tbody>\n",
       "</table>\n"
      ],
      "text/latex": [
       "A grouped\\_df: 14 × 4\n",
       "\\begin{tabular}{llll}\n",
       " member\\_casual & day\\_of\\_week & number\\_of\\_rides & average\\_duration\\\\\n",
       " <chr> & <ord> & <int> & <dbl>\\\\\n",
       "\\hline\n",
       "\t casual & Sunday    & 232258 & 52.15010\\\\\n",
       "\t casual & Monday    & 129858 & 46.94163\\\\\n",
       "\t casual & Tuesday   & 124569 & 42.10003\\\\\n",
       "\t casual & Wednesday & 137174 & 42.21735\\\\\n",
       "\t casual & Thursday  & 146905 & 44.85139\\\\\n",
       "\t casual & Friday    & 185810 & 44.28151\\\\\n",
       "\t casual & Saturday  & 296613 & 48.00692\\\\\n",
       "\t member & Sunday    & 220331 & 18.63380\\\\\n",
       "\t member & Monday    & 215008 & 15.50413\\\\\n",
       "\t member & Tuesday   & 227299 & 15.43946\\\\\n",
       "\t member & Wednesday & 246641 & 15.49720\\\\\n",
       "\t member & Thursday  & 247449 & 15.48254\\\\\n",
       "\t member & Friday    & 253890 & 16.02910\\\\\n",
       "\t member & Saturday  & 267292 & 18.17256\\\\\n",
       "\\end{tabular}\n"
      ],
      "text/markdown": [
       "\n",
       "A grouped_df: 14 × 4\n",
       "\n",
       "| member_casual &lt;chr&gt; | day_of_week &lt;ord&gt; | number_of_rides &lt;int&gt; | average_duration &lt;dbl&gt; |\n",
       "|---|---|---|---|\n",
       "| casual | Sunday    | 232258 | 52.15010 |\n",
       "| casual | Monday    | 129858 | 46.94163 |\n",
       "| casual | Tuesday   | 124569 | 42.10003 |\n",
       "| casual | Wednesday | 137174 | 42.21735 |\n",
       "| casual | Thursday  | 146905 | 44.85139 |\n",
       "| casual | Friday    | 185810 | 44.28151 |\n",
       "| casual | Saturday  | 296613 | 48.00692 |\n",
       "| member | Sunday    | 220331 | 18.63380 |\n",
       "| member | Monday    | 215008 | 15.50413 |\n",
       "| member | Tuesday   | 227299 | 15.43946 |\n",
       "| member | Wednesday | 246641 | 15.49720 |\n",
       "| member | Thursday  | 247449 | 15.48254 |\n",
       "| member | Friday    | 253890 | 16.02910 |\n",
       "| member | Saturday  | 267292 | 18.17256 |\n",
       "\n"
      ],
      "text/plain": [
       "   member_casual day_of_week number_of_rides average_duration\n",
       "1  casual        Sunday      232258          52.15010        \n",
       "2  casual        Monday      129858          46.94163        \n",
       "3  casual        Tuesday     124569          42.10003        \n",
       "4  casual        Wednesday   137174          42.21735        \n",
       "5  casual        Thursday    146905          44.85139        \n",
       "6  casual        Friday      185810          44.28151        \n",
       "7  casual        Saturday    296613          48.00692        \n",
       "8  member        Sunday      220331          18.63380        \n",
       "9  member        Monday      215008          15.50413        \n",
       "10 member        Tuesday     227299          15.43946        \n",
       "11 member        Wednesday   246641          15.49720        \n",
       "12 member        Thursday    247449          15.48254        \n",
       "13 member        Friday      253890          16.02910        \n",
       "14 member        Saturday    267292          18.17256        "
      ]
     },
     "metadata": {},
     "output_type": "display_data"
    }
   ],
   "source": [
    "#View the data frame\n",
    "\n",
    "head(all_trips_by_day,14)"
   ]
  },
  {
   "cell_type": "code",
   "execution_count": 26,
   "id": "164be300",
   "metadata": {
    "execution": {
     "iopub.execute_input": "2021-09-27T16:42:42.269942Z",
     "iopub.status.busy": "2021-09-27T16:42:42.267329Z",
     "iopub.status.idle": "2021-09-27T16:42:43.071130Z",
     "shell.execute_reply": "2021-09-27T16:42:43.069444Z"
    },
    "papermill": {
     "duration": 0.873459,
     "end_time": "2021-09-27T16:42:43.071328",
     "exception": false,
     "start_time": "2021-09-27T16:42:42.197869",
     "status": "completed"
    },
    "tags": []
   },
   "outputs": [
    {
     "name": "stderr",
     "output_type": "stream",
     "text": [
      "`summarise()` has grouped output by 'member_casual'. You can override using the `.groups` argument.\n",
      "\n"
     ]
    },
    {
     "data": {
      "image/png": "[encoded data removed]"
     },
     "metadata": {
      "image/png": {
       "height": 420,
       "width": 420
      }
     },
     "output_type": "display_data"
    }
   ],
   "source": [
    "# Turn off scientific notation\n",
    "\n",
    "options(scipen=999)\n",
    "\n",
    "setwd(\"/kaggle/working\")\n",
    "\n",
    "#Analyze ridership data by type and weekday\n",
    "\n",
    "all_trips %>% \n",
    "  group_by(member_casual, day_of_week) %>% \n",
    "  summarise(number_of_rides = n(), average_duration = mean(ride_length)) %>%\n",
    "  arrange(member_casual, day_of_week)%>% \n",
    "  ggplot(aes(x = day_of_week, y = number_of_rides, fill = member_casual)) +\n",
    "  geom_col(position = \"dodge\") + labs(title=\"Total Number of Rides by Day\", x = \"Week Day\", y = \"Number of Rides\") + theme(axis.text.x = element_text(angle = 60, hjust = 1))"
   ]
  },
  {
   "cell_type": "code",
   "execution_count": 27,
   "id": "87e1f8c3",
   "metadata": {
    "execution": {
     "iopub.execute_input": "2021-09-27T16:42:43.238833Z",
     "iopub.status.busy": "2021-09-27T16:42:43.236055Z",
     "iopub.status.idle": "2021-09-27T16:42:44.220792Z",
     "shell.execute_reply": "2021-09-27T16:42:44.219137Z"
    },
    "papermill": {
     "duration": 1.063262,
     "end_time": "2021-09-27T16:42:44.220959",
     "exception": false,
     "start_time": "2021-09-27T16:42:43.157697",
     "status": "completed"
    },
    "tags": []
   },
   "outputs": [
    {
     "data": {
      "text/html": [
       "528871"
      ],
      "text/latex": [
       "528871"
      ],
      "text/markdown": [
       "528871"
      ],
      "text/plain": [
       "[1] 528871"
      ]
     },
     "metadata": {},
     "output_type": "display_data"
    },
    {
     "data": {
      "text/html": [
       "724316"
      ],
      "text/latex": [
       "724316"
      ],
      "text/markdown": [
       "724316"
      ],
      "text/plain": [
       "[1] 724316"
      ]
     },
     "metadata": {},
     "output_type": "display_data"
    }
   ],
   "source": [
    "#Find the total casual rides on Saturday, Sunday compared to Monday through Friday\n",
    "\n",
    "total_rides_casual_sat_sun <- NROW(filter(all_trips, member_casual == \"casual\" & (day_of_week == \"Saturday\" | day_of_week == \"Sunday\")))\n",
    "\n",
    "total_rides_casual_sat_sun\n",
    "\n",
    "total_rides_casual_mon_fri <- NROW(filter(all_trips, member_casual == \"casual\" & !(day_of_week == \"Saturday\" | day_of_week == \"Sunday\")))\n",
    "\n",
    "total_rides_casual_mon_fri"
   ]
  },
  {
   "cell_type": "code",
   "execution_count": 28,
   "id": "74749b9c",
   "metadata": {
    "execution": {
     "iopub.execute_input": "2021-09-27T16:42:44.357424Z",
     "iopub.status.busy": "2021-09-27T16:42:44.355505Z",
     "iopub.status.idle": "2021-09-27T16:42:44.382318Z",
     "shell.execute_reply": "2021-09-27T16:42:44.380738Z"
    },
    "papermill": {
     "duration": 0.09657,
     "end_time": "2021-09-27T16:42:44.382490",
     "exception": false,
     "start_time": "2021-09-27T16:42:44.285920",
     "status": "completed"
    },
    "tags": []
   },
   "outputs": [
    {
     "data": {
      "text/html": [
       "<style>\n",
       ".list-inline {list-style: none; margin:0; padding: 0}\n",
       ".list-inline>li {display: inline-block}\n",
       ".list-inline>li:not(:last-child)::after {content: \"\\00b7\"; padding: 0 .5ex}\n",
       "</style>\n",
       "<ol class=list-inline><li>'Mon-Friday 57.8%'</li><li>'Sat-Sun 42.2%'</li></ol>\n"
      ],
      "text/latex": [
       "\\begin{enumerate*}\n",
       "\\item 'Mon-Friday 57.8\\%'\n",
       "\\item 'Sat-Sun 42.2\\%'\n",
       "\\end{enumerate*}\n"
      ],
      "text/markdown": [
       "1. 'Mon-Friday 57.8%'\n",
       "2. 'Sat-Sun 42.2%'\n",
       "\n",
       "\n"
      ],
      "text/plain": [
       "[1] \"Mon-Friday 57.8%\" \"Sat-Sun 42.2%\"   "
      ]
     },
     "metadata": {},
     "output_type": "display_data"
    }
   ],
   "source": [
    "#Percentage of casual riders on Saturday, Sunday compared to Monday through Friday\n",
    "\n",
    "labs <- c(\"Mon-Friday\", \"Sat-Sun\")\n",
    "slices_casual_week <- c(total_rides_casual_mon_fri, total_rides_casual_sat_sun)\n",
    "piepercent <- round(100 * slices_casual_week / sum(slices_casual_week), 1)\n",
    "lbls <- paste(labs, piepercent)\n",
    "lbls_casual_week <- paste(lbls, \"%\", sep=\"\")\n",
    "\n",
    "lbls_casual_week"
   ]
  },
  {
   "cell_type": "code",
   "execution_count": 29,
   "id": "ddecc766",
   "metadata": {
    "execution": {
     "iopub.execute_input": "2021-09-27T16:42:44.520024Z",
     "iopub.status.busy": "2021-09-27T16:42:44.518403Z",
     "iopub.status.idle": "2021-09-27T16:42:45.044726Z",
     "shell.execute_reply": "2021-09-27T16:42:45.043152Z"
    },
    "papermill": {
     "duration": 0.596584,
     "end_time": "2021-09-27T16:42:45.044866",
     "exception": false,
     "start_time": "2021-09-27T16:42:44.448282",
     "status": "completed"
    },
    "tags": []
   },
   "outputs": [
    {
     "name": "stderr",
     "output_type": "stream",
     "text": [
      "`summarise()` has grouped output by 'member_casual'. You can override using the `.groups` argument.\n",
      "\n"
     ]
    },
    {
     "data": {
      "image/png": "[encoded data removed]"
     },
     "metadata": {
      "image/png": {
       "height": 420,
       "width": 420
      }
     },
     "output_type": "display_data"
    }
   ],
   "source": [
    "# Analyze ridership data by type and month\n",
    "\n",
    "all_trips %>% \n",
    "  group_by(member_casual, month) %>% \n",
    "  summarise(number_of_rides = n(), average_duration = mean(ride_length)) %>% \n",
    "  arrange(member_casual, month)\t%>% \n",
    "  ggplot(aes(x = month, y = number_of_rides, fill = member_casual)) +\n",
    "  geom_col(position = \"dodge\") + labs(title=\"Total Number of Ride by Month\", x = \"Month\", y = \"Number of Rides\") + theme(axis.text.x = element_text(angle = 60, hjust = 1))"
   ]
  },
  {
   "cell_type": "code",
   "execution_count": 30,
   "id": "df60d522",
   "metadata": {
    "execution": {
     "iopub.execute_input": "2021-09-27T16:42:45.187142Z",
     "iopub.status.busy": "2021-09-27T16:42:45.185424Z",
     "iopub.status.idle": "2021-09-27T16:42:46.406085Z",
     "shell.execute_reply": "2021-09-27T16:42:46.404620Z"
    },
    "papermill": {
     "duration": 1.293545,
     "end_time": "2021-09-27T16:42:46.406232",
     "exception": false,
     "start_time": "2021-09-27T16:42:45.112687",
     "status": "completed"
    },
    "tags": []
   },
   "outputs": [
    {
     "data": {
      "text/html": [
       "762577"
      ],
      "text/latex": [
       "762577"
      ],
      "text/markdown": [
       "762577"
      ],
      "text/plain": [
       "[1] 762577"
      ]
     },
     "metadata": {},
     "output_type": "display_data"
    },
    {
     "data": {
      "text/html": [
       "490610"
      ],
      "text/latex": [
       "490610"
      ],
      "text/markdown": [
       "490610"
      ],
      "text/plain": [
       "[1] 490610"
      ]
     },
     "metadata": {},
     "output_type": "display_data"
    }
   ],
   "source": [
    "#Find the total casual rides by month - July to September compared to rest of the year\n",
    "\n",
    "total_rides_casual_jul_sept <- NROW(filter(all_trips, member_casual == \"casual\" & (month == \"July\" | month == \"August\" | month == \"September\")))\n",
    "\n",
    "total_rides_casual_jul_sept\n",
    "\n",
    "total_rides_casual_except_Jul_sept <- NROW(filter(all_trips, member_casual == \"casual\" & !(month == \"July\" | month == \"August\" | month == \"September\")))\n",
    "\n",
    "total_rides_casual_except_Jul_sept"
   ]
  },
  {
   "cell_type": "code",
   "execution_count": 31,
   "id": "9e84c3d8",
   "metadata": {
    "execution": {
     "iopub.execute_input": "2021-09-27T16:42:46.551618Z",
     "iopub.status.busy": "2021-09-27T16:42:46.549876Z",
     "iopub.status.idle": "2021-09-27T16:42:46.580984Z",
     "shell.execute_reply": "2021-09-27T16:42:46.578919Z"
    },
    "papermill": {
     "duration": 0.105378,
     "end_time": "2021-09-27T16:42:46.581178",
     "exception": false,
     "start_time": "2021-09-27T16:42:46.475800",
     "status": "completed"
    },
    "tags": []
   },
   "outputs": [
    {
     "data": {
      "text/html": [
       "<style>\n",
       ".list-inline {list-style: none; margin:0; padding: 0}\n",
       ".list-inline>li {display: inline-block}\n",
       ".list-inline>li:not(:last-child)::after {content: \"\\00b7\"; padding: 0 .5ex}\n",
       "</style>\n",
       "<ol class=list-inline><li>'Jul To Sept 60.9%'</li><li>'Rest of the Year 39.1%'</li></ol>\n"
      ],
      "text/latex": [
       "\\begin{enumerate*}\n",
       "\\item 'Jul To Sept 60.9\\%'\n",
       "\\item 'Rest of the Year 39.1\\%'\n",
       "\\end{enumerate*}\n"
      ],
      "text/markdown": [
       "1. 'Jul To Sept 60.9%'\n",
       "2. 'Rest of the Year 39.1%'\n",
       "\n",
       "\n"
      ],
      "text/plain": [
       "[1] \"Jul To Sept 60.9%\"      \"Rest of the Year 39.1%\""
      ]
     },
     "metadata": {},
     "output_type": "display_data"
    }
   ],
   "source": [
    "#Percentage of casual riders by month - July to September compared to rest of the year\n",
    "\n",
    "labs <- c(\"Jul To Sept\", \"Rest of the Year\")\n",
    "slices_casual_month <- c(total_rides_casual_jul_sept, total_rides_casual_except_Jul_sept)\n",
    "piepercent <- round(100 * slices_casual_month / sum(slices_casual_month), 1)\n",
    "lbls <- paste(labs, piepercent)\n",
    "lbls_casual_month <- paste(lbls, \"%\", sep=\"\")\n",
    "\n",
    "\n",
    "lbls_casual_month"
   ]
  },
  {
   "cell_type": "code",
   "execution_count": 32,
   "id": "3c24e26e",
   "metadata": {
    "execution": {
     "iopub.execute_input": "2021-09-27T16:42:46.731017Z",
     "iopub.status.busy": "2021-09-27T16:42:46.729870Z",
     "iopub.status.idle": "2021-09-27T16:42:47.901208Z",
     "shell.execute_reply": "2021-09-27T16:42:47.899756Z"
    },
    "papermill": {
     "duration": 1.24654,
     "end_time": "2021-09-27T16:42:47.901362",
     "exception": false,
     "start_time": "2021-09-27T16:42:46.654822",
     "status": "completed"
    },
    "tags": []
   },
   "outputs": [
    {
     "data": {
      "text/html": [
       "887737"
      ],
      "text/latex": [
       "887737"
      ],
      "text/markdown": [
       "887737"
      ],
      "text/plain": [
       "[1] 887737"
      ]
     },
     "metadata": {},
     "output_type": "display_data"
    },
    {
     "data": {
      "text/html": [
       "790173"
      ],
      "text/latex": [
       "790173"
      ],
      "text/markdown": [
       "790173"
      ],
      "text/plain": [
       "[1] 790173"
      ]
     },
     "metadata": {},
     "output_type": "display_data"
    }
   ],
   "source": [
    "#Find the total member rides by month - July to September compared to rest of the year\n",
    "\n",
    "total_rides_member_jul_sept <- NROW(filter(all_trips, member_casual == \"member\" & (month == \"July\" | month == \"August\" | month == \"September\")))\n",
    "\n",
    "total_rides_member_jul_sept\n",
    "\n",
    "total_rides_member_except_Jul_sept <- NROW(filter(all_trips, member_casual == \"member\" & !(month == \"July\" | month == \"August\" | month == \"September\")))\n",
    "\n",
    "total_rides_member_except_Jul_sept"
   ]
  },
  {
   "cell_type": "code",
   "execution_count": 33,
   "id": "1d6c849a",
   "metadata": {
    "execution": {
     "iopub.execute_input": "2021-09-27T16:42:48.050549Z",
     "iopub.status.busy": "2021-09-27T16:42:48.048547Z",
     "iopub.status.idle": "2021-09-27T16:42:48.082866Z",
     "shell.execute_reply": "2021-09-27T16:42:48.081195Z"
    },
    "papermill": {
     "duration": 0.110152,
     "end_time": "2021-09-27T16:42:48.083026",
     "exception": false,
     "start_time": "2021-09-27T16:42:47.972874",
     "status": "completed"
    },
    "tags": []
   },
   "outputs": [
    {
     "data": {
      "text/html": [
       "<style>\n",
       ".list-inline {list-style: none; margin:0; padding: 0}\n",
       ".list-inline>li {display: inline-block}\n",
       ".list-inline>li:not(:last-child)::after {content: \"\\00b7\"; padding: 0 .5ex}\n",
       "</style>\n",
       "<ol class=list-inline><li>'Jul To Sept 52.9%'</li><li>'Rest of the Year 47.1%'</li></ol>\n"
      ],
      "text/latex": [
       "\\begin{enumerate*}\n",
       "\\item 'Jul To Sept 52.9\\%'\n",
       "\\item 'Rest of the Year 47.1\\%'\n",
       "\\end{enumerate*}\n"
      ],
      "text/markdown": [
       "1. 'Jul To Sept 52.9%'\n",
       "2. 'Rest of the Year 47.1%'\n",
       "\n",
       "\n"
      ],
      "text/plain": [
       "[1] \"Jul To Sept 52.9%\"      \"Rest of the Year 47.1%\""
      ]
     },
     "metadata": {},
     "output_type": "display_data"
    }
   ],
   "source": [
    "#Percentage of member riders by month - July to September compared to rest of the year\n",
    "\n",
    "labs <- c(\"Jul To Sept\", \"Rest of the Year\")\n",
    "slices_member_month <- c(total_rides_member_jul_sept, total_rides_member_except_Jul_sept)\n",
    "piepercent <- round(100 * slices_member_month / sum(slices_member_month), 1)\n",
    "lbls <- paste(labs, piepercent)\n",
    "lbls_member_month <- paste(lbls, \"%\", sep=\"\")\n",
    "\n",
    "\n",
    "lbls_member_month"
   ]
  },
  {
   "cell_type": "code",
   "execution_count": 34,
   "id": "c0172fc7",
   "metadata": {
    "execution": {
     "iopub.execute_input": "2021-09-27T16:42:48.235189Z",
     "iopub.status.busy": "2021-09-27T16:42:48.233691Z",
     "iopub.status.idle": "2021-09-27T16:42:49.201549Z",
     "shell.execute_reply": "2021-09-27T16:42:49.200750Z"
    },
    "papermill": {
     "duration": 1.044517,
     "end_time": "2021-09-27T16:42:49.201751",
     "exception": false,
     "start_time": "2021-09-27T16:42:48.157234",
     "status": "completed"
    },
    "tags": []
   },
   "outputs": [],
   "source": [
    "#Create a new data frame for member riders\n",
    "\n",
    "all_trips_member <-  filter(all_trips, member_casual == \"member\")"
   ]
  },
  {
   "cell_type": "code",
   "execution_count": 35,
   "id": "380f8640",
   "metadata": {
    "execution": {
     "iopub.execute_input": "2021-09-27T16:42:49.403573Z",
     "iopub.status.busy": "2021-09-27T16:42:49.402295Z",
     "iopub.status.idle": "2021-09-27T16:42:49.809258Z",
     "shell.execute_reply": "2021-09-27T16:42:49.808626Z"
    },
    "papermill": {
     "duration": 0.485787,
     "end_time": "2021-09-27T16:42:49.809405",
     "exception": false,
     "start_time": "2021-09-27T16:42:49.323618",
     "status": "completed"
    },
    "tags": []
   },
   "outputs": [
    {
     "name": "stderr",
     "output_type": "stream",
     "text": [
      "`summarise()` has grouped output by 'rideable_type'. You can override using the `.groups` argument.\n",
      "\n"
     ]
    },
    {
     "data": {
      "image/png": "[encoded data removed]"
     },
     "metadata": {
      "image/png": {
       "height": 420,
       "width": 420
      }
     },
     "output_type": "display_data"
    }
   ],
   "source": [
    "#Analyze member ridership data by type and month\n",
    "\n",
    "all_trips_member %>% \n",
    "  group_by(rideable_type, month) %>% \n",
    "  summarise(number_of_rides = n(), average_duration = mean(ride_length)) %>% \t\t\n",
    "  arrange(rideable_type, month)\t%>% \n",
    "  ggplot(aes(x = month, y = number_of_rides, fill = rideable_type)) +\n",
    "  geom_col(position = \"dodge\") + labs(title=\"Total Number of Member Rides by Month\", x = \"Month\", y = \"Number of Member Rides\") + theme(axis.text.x = element_text(angle = 60, hjust = 1))"
   ]
  },
  {
   "cell_type": "code",
   "execution_count": 36,
   "id": "3da39074",
   "metadata": {
    "execution": {
     "iopub.execute_input": "2021-09-27T16:42:49.967240Z",
     "iopub.status.busy": "2021-09-27T16:42:49.965946Z",
     "iopub.status.idle": "2021-09-27T16:42:50.388243Z",
     "shell.execute_reply": "2021-09-27T16:42:50.387346Z"
    },
    "papermill": {
     "duration": 0.503511,
     "end_time": "2021-09-27T16:42:50.388475",
     "exception": false,
     "start_time": "2021-09-27T16:42:49.884964",
     "status": "completed"
    },
    "tags": []
   },
   "outputs": [
    {
     "name": "stderr",
     "output_type": "stream",
     "text": [
      "`summarise()` has grouped output by 'rideable_type'. You can override using the `.groups` argument.\n",
      "\n"
     ]
    },
    {
     "data": {
      "image/png": "[encoded data removed]"
     },
     "metadata": {
      "image/png": {
       "height": 420,
       "width": 420
      }
     },
     "output_type": "display_data"
    }
   ],
   "source": [
    "# Analyze member ridership data by type and month\n",
    "\n",
    "\n",
    "all_trips_member %>% \n",
    "  group_by(rideable_type, day_of_week) %>% \n",
    "  summarise(number_of_rides = n(), average_duration = mean(ride_length)) %>% \n",
    "  arrange(rideable_type, day_of_week)%>% \n",
    "  ggplot(aes(x = day_of_week, y = number_of_rides, fill = rideable_type)) +\n",
    "  geom_col(position = \"dodge\") + labs(title=\"Total Number of Member Rides by Day\", x = \"Week Day\", y = \"Number of Member Rides\") + theme(axis.text.x = element_text(angle = 60, hjust = 1))"
   ]
  },
  {
   "cell_type": "code",
   "execution_count": 37,
   "id": "aa5aa3d1",
   "metadata": {
    "execution": {
     "iopub.execute_input": "2021-09-27T16:42:50.568504Z",
     "iopub.status.busy": "2021-09-27T16:42:50.566044Z",
     "iopub.status.idle": "2021-09-27T16:42:54.933239Z",
     "shell.execute_reply": "2021-09-27T16:42:54.931638Z"
    },
    "papermill": {
     "duration": 4.46295,
     "end_time": "2021-09-27T16:42:54.933426",
     "exception": false,
     "start_time": "2021-09-27T16:42:50.470476",
     "status": "completed"
    },
    "tags": []
   },
   "outputs": [],
   "source": [
    "#Create a new data frame for casual riders\n",
    "\n",
    "all_trips_casual <-  filter(all_trips, member_casual == \"casual\")"
   ]
  },
  {
   "cell_type": "code",
   "execution_count": 38,
   "id": "f41f0192",
   "metadata": {
    "execution": {
     "iopub.execute_input": "2021-09-27T16:42:55.094444Z",
     "iopub.status.busy": "2021-09-27T16:42:55.092553Z",
     "iopub.status.idle": "2021-09-27T16:42:55.470318Z",
     "shell.execute_reply": "2021-09-27T16:42:55.468931Z"
    },
    "papermill": {
     "duration": 0.460674,
     "end_time": "2021-09-27T16:42:55.470467",
     "exception": false,
     "start_time": "2021-09-27T16:42:55.009793",
     "status": "completed"
    },
    "tags": []
   },
   "outputs": [
    {
     "name": "stderr",
     "output_type": "stream",
     "text": [
      "`summarise()` has grouped output by 'rideable_type'. You can override using the `.groups` argument.\n",
      "\n"
     ]
    },
    {
     "data": {
      "image/png": "[encoded data removed]"
     },
     "metadata": {
      "image/png": {
       "height": 420,
       "width": 420
      }
     },
     "output_type": "display_data"
    }
   ],
   "source": [
    "#Analyze casual ridership data by type and month\n",
    "\n",
    "all_trips_casual %>% \n",
    "  group_by(rideable_type, month) %>% \n",
    "  summarise(number_of_rides = n(), average_duration = mean(ride_length)) %>% \t\t\n",
    "  arrange(rideable_type, month)\t%>% \n",
    "  ggplot(aes(x = month, y = number_of_rides, fill = rideable_type)) +\n",
    "  geom_col(position = \"dodge\") + labs(title=\"Total Number of Casual Rides by Month\", x = \"Month\", y = \"Number of Casual Rides\") + theme(axis.text.x = element_text(angle = 60, hjust = 1))"
   ]
  },
  {
   "cell_type": "code",
   "execution_count": 39,
   "id": "a5b08585",
   "metadata": {
    "execution": {
     "iopub.execute_input": "2021-09-27T16:42:55.635916Z",
     "iopub.status.busy": "2021-09-27T16:42:55.633889Z",
     "iopub.status.idle": "2021-09-27T16:42:56.044868Z",
     "shell.execute_reply": "2021-09-27T16:42:56.043140Z"
    },
    "papermill": {
     "duration": 0.495179,
     "end_time": "2021-09-27T16:42:56.045034",
     "exception": false,
     "start_time": "2021-09-27T16:42:55.549855",
     "status": "completed"
    },
    "tags": []
   },
   "outputs": [
    {
     "name": "stderr",
     "output_type": "stream",
     "text": [
      "`summarise()` has grouped output by 'rideable_type'. You can override using the `.groups` argument.\n",
      "\n"
     ]
    },
    {
     "data": {
      "image/png": "[encoded data removed]"
     },
     "metadata": {
      "image/png": {
       "height": 420,
       "width": 420
      }
     },
     "output_type": "display_data"
    }
   ],
   "source": [
    "# Analyze casual ridership data by type and month\n",
    "\n",
    "\n",
    "all_trips_casual %>% \n",
    "  group_by(rideable_type, day_of_week) %>% \n",
    "  summarise(number_of_rides = n(), average_duration = mean(ride_length)) %>% \n",
    "  arrange(rideable_type, day_of_week)%>% \n",
    "  ggplot(aes(x = day_of_week, y = number_of_rides, fill = rideable_type)) +\n",
    "  geom_col(position = \"dodge\") + labs(title=\"Total Number of Casual Rides by Day\", x = \"Week Day\", y = \"Number of Casual Rides\") + theme(axis.text.x = element_text(angle = 60, hjust = 1))"
   ]
  },
  {
   "cell_type": "markdown",
   "id": "a1d94712",
   "metadata": {
    "papermill": {
     "duration": 0.080693,
     "end_time": "2021-09-27T16:42:56.208747",
     "exception": false,
     "start_time": "2021-09-27T16:42:56.128054",
     "status": "completed"
    },
    "tags": []
   },
   "source": [
    "Find the most popular route and stations of casual rides"
   ]
  },
  {
   "cell_type": "code",
   "execution_count": 40,
   "id": "0df87a81",
   "metadata": {
    "execution": {
     "iopub.execute_input": "2021-09-27T16:42:56.377001Z",
     "iopub.status.busy": "2021-09-27T16:42:56.374974Z",
     "iopub.status.idle": "2021-09-27T16:42:57.646851Z",
     "shell.execute_reply": "2021-09-27T16:42:57.645176Z"
    },
    "papermill": {
     "duration": 1.357882,
     "end_time": "2021-09-27T16:42:57.647034",
     "exception": false,
     "start_time": "2021-09-27T16:42:56.289152",
     "status": "completed"
    },
    "tags": []
   },
   "outputs": [],
   "source": [
    "#Create a new column with route on the casual riders data frame\n",
    "\n",
    "all_trips_casual <- all_trips_casual %>%\n",
    "  mutate(route = paste(start_station_name, \"To\", sep=\" \"))\n",
    "         \n",
    "         \n",
    "all_trips_casual <- all_trips_casual %>%       \n",
    "  mutate(route = paste(route, end_station_name, sep =\" \"))"
   ]
  },
  {
   "cell_type": "code",
   "execution_count": 41,
   "id": "32f25f82",
   "metadata": {
    "execution": {
     "iopub.execute_input": "2021-09-27T16:42:57.814905Z",
     "iopub.status.busy": "2021-09-27T16:42:57.812611Z",
     "iopub.status.idle": "2021-09-27T16:43:03.321555Z",
     "shell.execute_reply": "2021-09-27T16:43:03.320435Z"
    },
    "papermill": {
     "duration": 5.594607,
     "end_time": "2021-09-27T16:43:03.321755",
     "exception": false,
     "start_time": "2021-09-27T16:42:57.727148",
     "status": "completed"
    },
    "tags": []
   },
   "outputs": [],
   "source": [
    "#Find the most popular route by number of casual rides\n",
    "\n",
    "popular_ride_route <- all_trips_casual %>% \n",
    "  group_by(route) %>%\n",
    "  summarise(number_of_rides  = n(), average_duration_minutes = mean(ride_length)) %>% \n",
    "  arrange(route, number_of_rides, average_duration_minutes)"
   ]
  },
  {
   "cell_type": "code",
   "execution_count": 42,
   "id": "86cfba3d",
   "metadata": {
    "execution": {
     "iopub.execute_input": "2021-09-27T16:43:03.490380Z",
     "iopub.status.busy": "2021-09-27T16:43:03.488964Z",
     "iopub.status.idle": "2021-09-27T16:43:03.523889Z",
     "shell.execute_reply": "2021-09-27T16:43:03.522044Z"
    },
    "papermill": {
     "duration": 0.120343,
     "end_time": "2021-09-27T16:43:03.524059",
     "exception": false,
     "start_time": "2021-09-27T16:43:03.403716",
     "status": "completed"
    },
    "tags": []
   },
   "outputs": [
    {
     "data": {
      "text/html": [
       "<table class=\"dataframe\">\n",
       "<caption>A tibble: 10 × 3</caption>\n",
       "<thead>\n",
       "\t<tr><th scope=col>route</th><th scope=col>number_of_rides</th><th scope=col>average_duration_minutes</th></tr>\n",
       "\t<tr><th scope=col>&lt;chr&gt;</th><th scope=col>&lt;int&gt;</th><th scope=col>&lt;dbl&gt;</th></tr>\n",
       "</thead>\n",
       "<tbody>\n",
       "\t<tr><td><span style=white-space:pre-wrap>Streeter Dr &amp; Grand Ave To Streeter Dr &amp; Grand Ave      </span></td><td>6077</td><td>58.47887</td></tr>\n",
       "\t<tr><td><span style=white-space:pre-wrap>Lake Shore Dr &amp; Monroe St To Lake Shore Dr &amp; Monroe St  </span></td><td>5925</td><td>53.80954</td></tr>\n",
       "\t<tr><td>Millennium Park To Millennium Park                      </td><td>4989</td><td>57.62292</td></tr>\n",
       "\t<tr><td>Buckingham Fountain To Buckingham Fountain              </td><td>4839</td><td>78.25001</td></tr>\n",
       "\t<tr><td>Indiana Ave &amp; Roosevelt Rd To Indiana Ave &amp; Roosevelt Rd</td><td>3635</td><td>64.37820</td></tr>\n",
       "\t<tr><td><span style=white-space:pre-wrap>Michigan Ave &amp; Oak St To Michigan Ave &amp; Oak St          </span></td><td>3570</td><td>56.59007</td></tr>\n",
       "\t<tr><td><span style=white-space:pre-wrap>Michigan Ave &amp; 8th St To Michigan Ave &amp; 8th St          </span></td><td>3131</td><td>63.80353</td></tr>\n",
       "\t<tr><td>Fort Dearborn Dr &amp; 31st St To Fort Dearborn Dr &amp; 31st St</td><td>3001</td><td>72.14552</td></tr>\n",
       "\t<tr><td><span style=white-space:pre-wrap>Shore Dr &amp; 55th St To Shore Dr &amp; 55th St                </span></td><td>2800</td><td>71.17184</td></tr>\n",
       "\t<tr><td>Theater on the Lake To Theater on the Lake              </td><td>2643</td><td>52.39598</td></tr>\n",
       "</tbody>\n",
       "</table>\n"
      ],
      "text/latex": [
       "A tibble: 10 × 3\n",
       "\\begin{tabular}{lll}\n",
       " route & number\\_of\\_rides & average\\_duration\\_minutes\\\\\n",
       " <chr> & <int> & <dbl>\\\\\n",
       "\\hline\n",
       "\t Streeter Dr \\& Grand Ave To Streeter Dr \\& Grand Ave       & 6077 & 58.47887\\\\\n",
       "\t Lake Shore Dr \\& Monroe St To Lake Shore Dr \\& Monroe St   & 5925 & 53.80954\\\\\n",
       "\t Millennium Park To Millennium Park                       & 4989 & 57.62292\\\\\n",
       "\t Buckingham Fountain To Buckingham Fountain               & 4839 & 78.25001\\\\\n",
       "\t Indiana Ave \\& Roosevelt Rd To Indiana Ave \\& Roosevelt Rd & 3635 & 64.37820\\\\\n",
       "\t Michigan Ave \\& Oak St To Michigan Ave \\& Oak St           & 3570 & 56.59007\\\\\n",
       "\t Michigan Ave \\& 8th St To Michigan Ave \\& 8th St           & 3131 & 63.80353\\\\\n",
       "\t Fort Dearborn Dr \\& 31st St To Fort Dearborn Dr \\& 31st St & 3001 & 72.14552\\\\\n",
       "\t Shore Dr \\& 55th St To Shore Dr \\& 55th St                 & 2800 & 71.17184\\\\\n",
       "\t Theater on the Lake To Theater on the Lake               & 2643 & 52.39598\\\\\n",
       "\\end{tabular}\n"
      ],
      "text/markdown": [
       "\n",
       "A tibble: 10 × 3\n",
       "\n",
       "| route &lt;chr&gt; | number_of_rides &lt;int&gt; | average_duration_minutes &lt;dbl&gt; |\n",
       "|---|---|---|\n",
       "| Streeter Dr &amp; Grand Ave To Streeter Dr &amp; Grand Ave       | 6077 | 58.47887 |\n",
       "| Lake Shore Dr &amp; Monroe St To Lake Shore Dr &amp; Monroe St   | 5925 | 53.80954 |\n",
       "| Millennium Park To Millennium Park                       | 4989 | 57.62292 |\n",
       "| Buckingham Fountain To Buckingham Fountain               | 4839 | 78.25001 |\n",
       "| Indiana Ave &amp; Roosevelt Rd To Indiana Ave &amp; Roosevelt Rd | 3635 | 64.37820 |\n",
       "| Michigan Ave &amp; Oak St To Michigan Ave &amp; Oak St           | 3570 | 56.59007 |\n",
       "| Michigan Ave &amp; 8th St To Michigan Ave &amp; 8th St           | 3131 | 63.80353 |\n",
       "| Fort Dearborn Dr &amp; 31st St To Fort Dearborn Dr &amp; 31st St | 3001 | 72.14552 |\n",
       "| Shore Dr &amp; 55th St To Shore Dr &amp; 55th St                 | 2800 | 71.17184 |\n",
       "| Theater on the Lake To Theater on the Lake               | 2643 | 52.39598 |\n",
       "\n"
      ],
      "text/plain": [
       "   route                                                    number_of_rides\n",
       "1  Streeter Dr & Grand Ave To Streeter Dr & Grand Ave       6077           \n",
       "2  Lake Shore Dr & Monroe St To Lake Shore Dr & Monroe St   5925           \n",
       "3  Millennium Park To Millennium Park                       4989           \n",
       "4  Buckingham Fountain To Buckingham Fountain               4839           \n",
       "5  Indiana Ave & Roosevelt Rd To Indiana Ave & Roosevelt Rd 3635           \n",
       "6  Michigan Ave & Oak St To Michigan Ave & Oak St           3570           \n",
       "7  Michigan Ave & 8th St To Michigan Ave & 8th St           3131           \n",
       "8  Fort Dearborn Dr & 31st St To Fort Dearborn Dr & 31st St 3001           \n",
       "9  Shore Dr & 55th St To Shore Dr & 55th St                 2800           \n",
       "10 Theater on the Lake To Theater on the Lake               2643           \n",
       "   average_duration_minutes\n",
       "1  58.47887                \n",
       "2  53.80954                \n",
       "3  57.62292                \n",
       "4  78.25001                \n",
       "5  64.37820                \n",
       "6  56.59007                \n",
       "7  63.80353                \n",
       "8  72.14552                \n",
       "9  71.17184                \n",
       "10 52.39598                "
      ]
     },
     "metadata": {},
     "output_type": "display_data"
    }
   ],
   "source": [
    "#Create a data frame of top 10 routes of casual riders \n",
    "\n",
    "popular_ride_route_top10 <- head(arrange(popular_ride_route, desc(number_of_rides)),10)\n",
    "\n",
    "head(popular_ride_route_top10, 10)"
   ]
  },
  {
   "cell_type": "markdown",
   "id": "d4059d8d",
   "metadata": {
    "papermill": {
     "duration": 0.081505,
     "end_time": "2021-09-27T16:43:03.687340",
     "exception": false,
     "start_time": "2021-09-27T16:43:03.605835",
     "status": "completed"
    },
    "tags": []
   },
   "source": [
    "I have observed that the start and end station are same for the top 10 casal riders' route. I will cross-check this for one of the station"
   ]
  },
  {
   "cell_type": "code",
   "execution_count": 43,
   "id": "3b4e4433",
   "metadata": {
    "execution": {
     "iopub.execute_input": "2021-09-27T16:43:03.857140Z",
     "iopub.status.busy": "2021-09-27T16:43:03.855910Z",
     "iopub.status.idle": "2021-09-27T16:43:03.899797Z",
     "shell.execute_reply": "2021-09-27T16:43:03.898409Z"
    },
    "papermill": {
     "duration": 0.131102,
     "end_time": "2021-09-27T16:43:03.899959",
     "exception": false,
     "start_time": "2021-09-27T16:43:03.768857",
     "status": "completed"
    },
    "tags": []
   },
   "outputs": [
    {
     "data": {
      "text/html": [
       "4989"
      ],
      "text/latex": [
       "4989"
      ],
      "text/markdown": [
       "4989"
      ],
      "text/plain": [
       "[1] 4989"
      ]
     },
     "metadata": {},
     "output_type": "display_data"
    }
   ],
   "source": [
    "#Vefiry one of the number of observations with same start and end station for one of the station\n",
    "\n",
    "NROW(filter(all_trips_casual, start_station_name == \"Millennium Park\" & end_station_name == \"Millennium Park\"))"
   ]
  },
  {
   "cell_type": "markdown",
   "id": "fc94b39b",
   "metadata": {
    "papermill": {
     "duration": 0.083662,
     "end_time": "2021-09-27T16:43:04.067119",
     "exception": false,
     "start_time": "2021-09-27T16:43:03.983457",
     "status": "completed"
    },
    "tags": []
   },
   "source": [
    "**The start and end stations are same for the Top 10 route of casual riders.**    "
   ]
  },
  {
   "cell_type": "code",
   "execution_count": 44,
   "id": "b7b1eee1",
   "metadata": {
    "execution": {
     "iopub.execute_input": "2021-09-27T16:43:04.238135Z",
     "iopub.status.busy": "2021-09-27T16:43:04.236745Z",
     "iopub.status.idle": "2021-09-27T16:43:04.254731Z",
     "shell.execute_reply": "2021-09-27T16:43:04.253775Z"
    },
    "papermill": {
     "duration": 0.104853,
     "end_time": "2021-09-27T16:43:04.254887",
     "exception": false,
     "start_time": "2021-09-27T16:43:04.150034",
     "status": "completed"
    },
    "tags": []
   },
   "outputs": [],
   "source": [
    "# Separate the top 10 start and end station names\n",
    "\n",
    "popular_ride_route_top10 <- popular_ride_route_top10 %>%\n",
    "  separate(route, c(\"start_station_name\", \"end_station_name\"), sep = \" To \")"
   ]
  },
  {
   "cell_type": "code",
   "execution_count": 45,
   "id": "a6c5844e",
   "metadata": {
    "execution": {
     "iopub.execute_input": "2021-09-27T16:43:04.424050Z",
     "iopub.status.busy": "2021-09-27T16:43:04.422571Z",
     "iopub.status.idle": "2021-09-27T16:43:04.437652Z",
     "shell.execute_reply": "2021-09-27T16:43:04.436007Z"
    },
    "papermill": {
     "duration": 0.101441,
     "end_time": "2021-09-27T16:43:04.437838",
     "exception": false,
     "start_time": "2021-09-27T16:43:04.336397",
     "status": "completed"
    },
    "tags": []
   },
   "outputs": [],
   "source": [
    "# Create a new data frame with top 10 stations, number of rides and average ride duration\n",
    "\n",
    "popular_ride_route_top10_start <- popular_ride_route_top10[,c(1,3,4)]"
   ]
  },
  {
   "cell_type": "code",
   "execution_count": 46,
   "id": "7e38a094",
   "metadata": {
    "execution": {
     "iopub.execute_input": "2021-09-27T16:43:04.609818Z",
     "iopub.status.busy": "2021-09-27T16:43:04.607860Z",
     "iopub.status.idle": "2021-09-27T16:43:04.625136Z",
     "shell.execute_reply": "2021-09-27T16:43:04.623701Z"
    },
    "papermill": {
     "duration": 0.103963,
     "end_time": "2021-09-27T16:43:04.625284",
     "exception": false,
     "start_time": "2021-09-27T16:43:04.521321",
     "status": "completed"
    },
    "tags": []
   },
   "outputs": [],
   "source": [
    "#Create a new data frame by joining all_trips_stations and popular_ride_route_top10_start to find the latitude and longitude of top 10 stations\n",
    "\n",
    "m_top10_stations_casual <- merge(popular_ride_route_top10_start, all_trips_stations)"
   ]
  },
  {
   "cell_type": "code",
   "execution_count": 47,
   "id": "b4d5c0bb",
   "metadata": {
    "execution": {
     "iopub.execute_input": "2021-09-27T16:43:04.796705Z",
     "iopub.status.busy": "2021-09-27T16:43:04.795969Z",
     "iopub.status.idle": "2021-09-27T16:43:04.821904Z",
     "shell.execute_reply": "2021-09-27T16:43:04.820581Z"
    },
    "papermill": {
     "duration": 0.115978,
     "end_time": "2021-09-27T16:43:04.822065",
     "exception": false,
     "start_time": "2021-09-27T16:43:04.706087",
     "status": "completed"
    },
    "tags": []
   },
   "outputs": [
    {
     "data": {
      "text/html": [
       "<table class=\"dataframe\">\n",
       "<caption>A data.frame: 10 × 5</caption>\n",
       "<thead>\n",
       "\t<tr><th></th><th scope=col>start_station_name</th><th scope=col>number_of_rides</th><th scope=col>average_duration_minutes</th><th scope=col>start_lat</th><th scope=col>start_lng</th></tr>\n",
       "\t<tr><th></th><th scope=col>&lt;chr&gt;</th><th scope=col>&lt;int&gt;</th><th scope=col>&lt;dbl&gt;</th><th scope=col>&lt;dbl&gt;</th><th scope=col>&lt;dbl&gt;</th></tr>\n",
       "</thead>\n",
       "<tbody>\n",
       "\t<tr><th scope=row>1</th><td>Buckingham Fountain       </td><td>4839</td><td>78.25001</td><td>41.8765</td><td>-87.6205</td></tr>\n",
       "\t<tr><th scope=row>2</th><td>Fort Dearborn Dr &amp; 31st St</td><td>3001</td><td>72.14552</td><td>41.8386</td><td>-87.6082</td></tr>\n",
       "\t<tr><th scope=row>3</th><td>Indiana Ave &amp; Roosevelt Rd</td><td>3635</td><td>64.37820</td><td>41.8679</td><td>-87.6230</td></tr>\n",
       "\t<tr><th scope=row>4</th><td>Lake Shore Dr &amp; Monroe St </td><td>5925</td><td>53.80954</td><td>41.8810</td><td>-87.6167</td></tr>\n",
       "\t<tr><th scope=row>5</th><td><span style=white-space:pre-wrap>Michigan Ave &amp; 8th St     </span></td><td>3131</td><td>63.80353</td><td>41.8728</td><td>-87.6240</td></tr>\n",
       "\t<tr><th scope=row>6</th><td><span style=white-space:pre-wrap>Michigan Ave &amp; Oak St     </span></td><td>3570</td><td>56.59007</td><td>41.9010</td><td>-87.6238</td></tr>\n",
       "\t<tr><th scope=row>7</th><td>Millennium Park           </td><td>4989</td><td>57.62292</td><td>41.8810</td><td>-87.6241</td></tr>\n",
       "\t<tr><th scope=row>8</th><td><span style=white-space:pre-wrap>Shore Dr &amp; 55th St        </span></td><td>2800</td><td>71.17184</td><td>41.7952</td><td>-87.5807</td></tr>\n",
       "\t<tr><th scope=row>9</th><td><span style=white-space:pre-wrap>Streeter Dr &amp; Grand Ave   </span></td><td>6077</td><td>58.47887</td><td>41.8923</td><td>-87.6120</td></tr>\n",
       "\t<tr><th scope=row>10</th><td>Theater on the Lake       </td><td>2643</td><td>52.39598</td><td>41.9263</td><td>-87.6308</td></tr>\n",
       "</tbody>\n",
       "</table>\n"
      ],
      "text/latex": [
       "A data.frame: 10 × 5\n",
       "\\begin{tabular}{r|lllll}\n",
       "  & start\\_station\\_name & number\\_of\\_rides & average\\_duration\\_minutes & start\\_lat & start\\_lng\\\\\n",
       "  & <chr> & <int> & <dbl> & <dbl> & <dbl>\\\\\n",
       "\\hline\n",
       "\t1 & Buckingham Fountain        & 4839 & 78.25001 & 41.8765 & -87.6205\\\\\n",
       "\t2 & Fort Dearborn Dr \\& 31st St & 3001 & 72.14552 & 41.8386 & -87.6082\\\\\n",
       "\t3 & Indiana Ave \\& Roosevelt Rd & 3635 & 64.37820 & 41.8679 & -87.6230\\\\\n",
       "\t4 & Lake Shore Dr \\& Monroe St  & 5925 & 53.80954 & 41.8810 & -87.6167\\\\\n",
       "\t5 & Michigan Ave \\& 8th St      & 3131 & 63.80353 & 41.8728 & -87.6240\\\\\n",
       "\t6 & Michigan Ave \\& Oak St      & 3570 & 56.59007 & 41.9010 & -87.6238\\\\\n",
       "\t7 & Millennium Park            & 4989 & 57.62292 & 41.8810 & -87.6241\\\\\n",
       "\t8 & Shore Dr \\& 55th St         & 2800 & 71.17184 & 41.7952 & -87.5807\\\\\n",
       "\t9 & Streeter Dr \\& Grand Ave    & 6077 & 58.47887 & 41.8923 & -87.6120\\\\\n",
       "\t10 & Theater on the Lake        & 2643 & 52.39598 & 41.9263 & -87.6308\\\\\n",
       "\\end{tabular}\n"
      ],
      "text/markdown": [
       "\n",
       "A data.frame: 10 × 5\n",
       "\n",
       "| <!--/--> | start_station_name &lt;chr&gt; | number_of_rides &lt;int&gt; | average_duration_minutes &lt;dbl&gt; | start_lat &lt;dbl&gt; | start_lng &lt;dbl&gt; |\n",
       "|---|---|---|---|---|---|\n",
       "| 1 | Buckingham Fountain        | 4839 | 78.25001 | 41.8765 | -87.6205 |\n",
       "| 2 | Fort Dearborn Dr &amp; 31st St | 3001 | 72.14552 | 41.8386 | -87.6082 |\n",
       "| 3 | Indiana Ave &amp; Roosevelt Rd | 3635 | 64.37820 | 41.8679 | -87.6230 |\n",
       "| 4 | Lake Shore Dr &amp; Monroe St  | 5925 | 53.80954 | 41.8810 | -87.6167 |\n",
       "| 5 | Michigan Ave &amp; 8th St      | 3131 | 63.80353 | 41.8728 | -87.6240 |\n",
       "| 6 | Michigan Ave &amp; Oak St      | 3570 | 56.59007 | 41.9010 | -87.6238 |\n",
       "| 7 | Millennium Park            | 4989 | 57.62292 | 41.8810 | -87.6241 |\n",
       "| 8 | Shore Dr &amp; 55th St         | 2800 | 71.17184 | 41.7952 | -87.5807 |\n",
       "| 9 | Streeter Dr &amp; Grand Ave    | 6077 | 58.47887 | 41.8923 | -87.6120 |\n",
       "| 10 | Theater on the Lake        | 2643 | 52.39598 | 41.9263 | -87.6308 |\n",
       "\n"
      ],
      "text/plain": [
       "   start_station_name         number_of_rides average_duration_minutes\n",
       "1  Buckingham Fountain        4839            78.25001                \n",
       "2  Fort Dearborn Dr & 31st St 3001            72.14552                \n",
       "3  Indiana Ave & Roosevelt Rd 3635            64.37820                \n",
       "4  Lake Shore Dr & Monroe St  5925            53.80954                \n",
       "5  Michigan Ave & 8th St      3131            63.80353                \n",
       "6  Michigan Ave & Oak St      3570            56.59007                \n",
       "7  Millennium Park            4989            57.62292                \n",
       "8  Shore Dr & 55th St         2800            71.17184                \n",
       "9  Streeter Dr & Grand Ave    6077            58.47887                \n",
       "10 Theater on the Lake        2643            52.39598                \n",
       "   start_lat start_lng\n",
       "1  41.8765   -87.6205 \n",
       "2  41.8386   -87.6082 \n",
       "3  41.8679   -87.6230 \n",
       "4  41.8810   -87.6167 \n",
       "5  41.8728   -87.6240 \n",
       "6  41.9010   -87.6238 \n",
       "7  41.8810   -87.6241 \n",
       "8  41.7952   -87.5807 \n",
       "9  41.8923   -87.6120 \n",
       "10 41.9263   -87.6308 "
      ]
     },
     "metadata": {},
     "output_type": "display_data"
    }
   ],
   "source": [
    "#View the top 10 stations' latitude and longitude\n",
    "\n",
    "head(m_top10_stations_casual, 10)"
   ]
  },
  {
   "cell_type": "markdown",
   "id": "57469292",
   "metadata": {
    "papermill": {
     "duration": 0.083458,
     "end_time": "2021-09-27T16:43:04.990650",
     "exception": false,
     "start_time": "2021-09-27T16:43:04.907192",
     "status": "completed"
    },
    "tags": []
   },
   "source": [
    "I will export the **m_top10_stations_casual** data frame and then **import in** **Tableau** for further analysis as it has the details about the latitude and longitude of the stations."
   ]
  },
  {
   "cell_type": "markdown",
   "id": "3ff37ac4",
   "metadata": {
    "papermill": {
     "duration": 0.102595,
     "end_time": "2021-09-27T16:43:05.186048",
     "exception": false,
     "start_time": "2021-09-27T16:43:05.083453",
     "status": "completed"
    },
    "tags": []
   },
   "source": [
    "![Cyclistic Popular Stations_Casual_Riders](https://storage.googleapis.com/d101-analytics/Top%20%2010%20Stations%20With%20Maximum%20Casual%20Riders%20-%20April%2C2020%20To%20March%2C%202021.png)"
   ]
  },
  {
   "cell_type": "markdown",
   "id": "15119164",
   "metadata": {
    "papermill": {
     "duration": 0.083341,
     "end_time": "2021-09-27T16:43:05.353216",
     "exception": false,
     "start_time": "2021-09-27T16:43:05.269875",
     "status": "completed"
    },
    "tags": []
   },
   "source": [
    "Find the top 10 routes and stations of member riders"
   ]
  },
  {
   "cell_type": "code",
   "execution_count": 48,
   "id": "e914946b",
   "metadata": {
    "execution": {
     "iopub.execute_input": "2021-09-27T16:43:05.529890Z",
     "iopub.status.busy": "2021-09-27T16:43:05.528321Z",
     "iopub.status.idle": "2021-09-27T16:43:07.155887Z",
     "shell.execute_reply": "2021-09-27T16:43:07.154071Z"
    },
    "papermill": {
     "duration": 1.717921,
     "end_time": "2021-09-27T16:43:07.156070",
     "exception": false,
     "start_time": "2021-09-27T16:43:05.438149",
     "status": "completed"
    },
    "tags": []
   },
   "outputs": [],
   "source": [
    "#Create new data frame containing only member riders\n",
    "\n",
    "all_trips_member <- filter(all_trips, member_casual == \"member\")\n",
    "\n",
    "\n",
    "\n",
    "#Create a new column with route\n",
    "\n",
    "all_trips_member <- all_trips_member %>%\n",
    "  mutate(route = paste(start_station_name, \"To\", sep=\" \"))\n",
    "         \n",
    "         \n",
    "all_trips_member <- all_trips_member %>%       \n",
    "  mutate(route = paste(route, end_station_name, sep =\" \"))"
   ]
  },
  {
   "cell_type": "code",
   "execution_count": 49,
   "id": "fcaef2de",
   "metadata": {
    "execution": {
     "iopub.execute_input": "2021-09-27T16:43:07.331616Z",
     "iopub.status.busy": "2021-09-27T16:43:07.329287Z",
     "iopub.status.idle": "2021-09-27T16:43:13.393707Z",
     "shell.execute_reply": "2021-09-27T16:43:13.392023Z"
    },
    "papermill": {
     "duration": 6.15523,
     "end_time": "2021-09-27T16:43:13.393915",
     "exception": false,
     "start_time": "2021-09-27T16:43:07.238685",
     "status": "completed"
    },
    "tags": []
   },
   "outputs": [],
   "source": [
    "#Most popular route by number of rides\n",
    "\n",
    "popular_ride_route_member <- all_trips_member %>% \n",
    "  group_by(route) %>%\n",
    "  summarise(number_of_rides  = n(), average_duration_minutes = mean(ride_length)) %>% \n",
    "  arrange(route, number_of_rides, average_duration_minutes)\n",
    "\n"
   ]
  },
  {
   "cell_type": "code",
   "execution_count": 50,
   "id": "ac1b5cb9",
   "metadata": {
    "execution": {
     "iopub.execute_input": "2021-09-27T16:43:13.568247Z",
     "iopub.status.busy": "2021-09-27T16:43:13.566721Z",
     "iopub.status.idle": "2021-09-27T16:43:13.603281Z",
     "shell.execute_reply": "2021-09-27T16:43:13.601540Z"
    },
    "papermill": {
     "duration": 0.126276,
     "end_time": "2021-09-27T16:43:13.603464",
     "exception": false,
     "start_time": "2021-09-27T16:43:13.477188",
     "status": "completed"
    },
    "tags": []
   },
   "outputs": [
    {
     "data": {
      "text/html": [
       "<table class=\"dataframe\">\n",
       "<caption>A tibble: 10 × 3</caption>\n",
       "<thead>\n",
       "\t<tr><th scope=col>route</th><th scope=col>number_of_rides</th><th scope=col>average_duration_minutes</th></tr>\n",
       "\t<tr><th scope=col>&lt;chr&gt;</th><th scope=col>&lt;int&gt;</th><th scope=col>&lt;dbl&gt;</th></tr>\n",
       "</thead>\n",
       "<tbody>\n",
       "\t<tr><td>Burnham Harbor To Burnham Harbor                                  </td><td>1007</td><td>26.068729</td></tr>\n",
       "\t<tr><td><span style=white-space:pre-wrap>Lake Shore Dr &amp; Wellington Ave To Lake Shore Dr &amp; Wellington Ave  </span></td><td>1007</td><td>23.328749</td></tr>\n",
       "\t<tr><td><span style=white-space:pre-wrap>Dearborn St &amp; Erie St To Dearborn St &amp; Erie St                    </span></td><td> 964</td><td>21.695405</td></tr>\n",
       "\t<tr><td><span style=white-space:pre-wrap>MLK Jr Dr &amp; 29th St To State St &amp; 33rd St                         </span></td><td> 948</td><td> 7.553861</td></tr>\n",
       "\t<tr><td><span style=white-space:pre-wrap>Clark St &amp; Elm St To Clark St &amp; Elm St                            </span></td><td> 932</td><td>17.755204</td></tr>\n",
       "\t<tr><td><span style=white-space:pre-wrap>Broadway &amp; Barry Ave To Broadway &amp; Barry Ave                      </span></td><td> 929</td><td>22.040710</td></tr>\n",
       "\t<tr><td><span style=white-space:pre-wrap>Lake Shore Dr &amp; Belmont Ave To Lake Shore Dr &amp; Belmont Ave        </span></td><td> 905</td><td>26.973481</td></tr>\n",
       "\t<tr><td>Theater on the Lake To Theater on the Lake                        </td><td> 895</td><td>21.752615</td></tr>\n",
       "\t<tr><td><span style=white-space:pre-wrap>Lake Shore Dr &amp; North Blvd To Lake Shore Dr &amp; North Blvd          </span></td><td> 885</td><td>21.821288</td></tr>\n",
       "\t<tr><td>Lakefront Trail &amp; Bryn Mawr Ave To Lakefront Trail &amp; Bryn Mawr Ave</td><td> 881</td><td>27.170829</td></tr>\n",
       "</tbody>\n",
       "</table>\n"
      ],
      "text/latex": [
       "A tibble: 10 × 3\n",
       "\\begin{tabular}{lll}\n",
       " route & number\\_of\\_rides & average\\_duration\\_minutes\\\\\n",
       " <chr> & <int> & <dbl>\\\\\n",
       "\\hline\n",
       "\t Burnham Harbor To Burnham Harbor                                   & 1007 & 26.068729\\\\\n",
       "\t Lake Shore Dr \\& Wellington Ave To Lake Shore Dr \\& Wellington Ave   & 1007 & 23.328749\\\\\n",
       "\t Dearborn St \\& Erie St To Dearborn St \\& Erie St                     &  964 & 21.695405\\\\\n",
       "\t MLK Jr Dr \\& 29th St To State St \\& 33rd St                          &  948 &  7.553861\\\\\n",
       "\t Clark St \\& Elm St To Clark St \\& Elm St                             &  932 & 17.755204\\\\\n",
       "\t Broadway \\& Barry Ave To Broadway \\& Barry Ave                       &  929 & 22.040710\\\\\n",
       "\t Lake Shore Dr \\& Belmont Ave To Lake Shore Dr \\& Belmont Ave         &  905 & 26.973481\\\\\n",
       "\t Theater on the Lake To Theater on the Lake                         &  895 & 21.752615\\\\\n",
       "\t Lake Shore Dr \\& North Blvd To Lake Shore Dr \\& North Blvd           &  885 & 21.821288\\\\\n",
       "\t Lakefront Trail \\& Bryn Mawr Ave To Lakefront Trail \\& Bryn Mawr Ave &  881 & 27.170829\\\\\n",
       "\\end{tabular}\n"
      ],
      "text/markdown": [
       "\n",
       "A tibble: 10 × 3\n",
       "\n",
       "| route &lt;chr&gt; | number_of_rides &lt;int&gt; | average_duration_minutes &lt;dbl&gt; |\n",
       "|---|---|---|\n",
       "| Burnham Harbor To Burnham Harbor                                   | 1007 | 26.068729 |\n",
       "| Lake Shore Dr &amp; Wellington Ave To Lake Shore Dr &amp; Wellington Ave   | 1007 | 23.328749 |\n",
       "| Dearborn St &amp; Erie St To Dearborn St &amp; Erie St                     |  964 | 21.695405 |\n",
       "| MLK Jr Dr &amp; 29th St To State St &amp; 33rd St                          |  948 |  7.553861 |\n",
       "| Clark St &amp; Elm St To Clark St &amp; Elm St                             |  932 | 17.755204 |\n",
       "| Broadway &amp; Barry Ave To Broadway &amp; Barry Ave                       |  929 | 22.040710 |\n",
       "| Lake Shore Dr &amp; Belmont Ave To Lake Shore Dr &amp; Belmont Ave         |  905 | 26.973481 |\n",
       "| Theater on the Lake To Theater on the Lake                         |  895 | 21.752615 |\n",
       "| Lake Shore Dr &amp; North Blvd To Lake Shore Dr &amp; North Blvd           |  885 | 21.821288 |\n",
       "| Lakefront Trail &amp; Bryn Mawr Ave To Lakefront Trail &amp; Bryn Mawr Ave |  881 | 27.170829 |\n",
       "\n"
      ],
      "text/plain": [
       "   route                                                             \n",
       "1  Burnham Harbor To Burnham Harbor                                  \n",
       "2  Lake Shore Dr & Wellington Ave To Lake Shore Dr & Wellington Ave  \n",
       "3  Dearborn St & Erie St To Dearborn St & Erie St                    \n",
       "4  MLK Jr Dr & 29th St To State St & 33rd St                         \n",
       "5  Clark St & Elm St To Clark St & Elm St                            \n",
       "6  Broadway & Barry Ave To Broadway & Barry Ave                      \n",
       "7  Lake Shore Dr & Belmont Ave To Lake Shore Dr & Belmont Ave        \n",
       "8  Theater on the Lake To Theater on the Lake                        \n",
       "9  Lake Shore Dr & North Blvd To Lake Shore Dr & North Blvd          \n",
       "10 Lakefront Trail & Bryn Mawr Ave To Lakefront Trail & Bryn Mawr Ave\n",
       "   number_of_rides average_duration_minutes\n",
       "1  1007            26.068729               \n",
       "2  1007            23.328749               \n",
       "3   964            21.695405               \n",
       "4   948             7.553861               \n",
       "5   932            17.755204               \n",
       "6   929            22.040710               \n",
       "7   905            26.973481               \n",
       "8   895            21.752615               \n",
       "9   885            21.821288               \n",
       "10  881            27.170829               "
      ]
     },
     "metadata": {},
     "output_type": "display_data"
    }
   ],
   "source": [
    "#Top 10 popular member ride routes\n",
    "\n",
    "popular_ride_route_member_top10 <- head(arrange(popular_ride_route_member, desc(number_of_rides)),10)\n",
    "\n",
    "head(popular_ride_route_member_top10, 10)"
   ]
  },
  {
   "cell_type": "code",
   "execution_count": 51,
   "id": "f8cd2c77",
   "metadata": {
    "execution": {
     "iopub.execute_input": "2021-09-27T16:43:13.778297Z",
     "iopub.status.busy": "2021-09-27T16:43:13.776938Z",
     "iopub.status.idle": "2021-09-27T16:43:13.826858Z",
     "shell.execute_reply": "2021-09-27T16:43:13.825394Z"
    },
    "papermill": {
     "duration": 0.138374,
     "end_time": "2021-09-27T16:43:13.827028",
     "exception": false,
     "start_time": "2021-09-27T16:43:13.688654",
     "status": "completed"
    },
    "tags": []
   },
   "outputs": [
    {
     "data": {
      "text/html": [
       "905"
      ],
      "text/latex": [
       "905"
      ],
      "text/markdown": [
       "905"
      ],
      "text/plain": [
       "[1] 905"
      ]
     },
     "metadata": {},
     "output_type": "display_data"
    }
   ],
   "source": [
    "#Vefiry one of the number of observations with same start and end station for one of the station\n",
    "\n",
    "NROW(filter(all_trips_member, start_station_name == \"Lake Shore Dr & Belmont Ave\" & end_station_name == \"Lake Shore Dr & Belmont Ave\"))"
   ]
  },
  {
   "cell_type": "markdown",
   "id": "638cd116",
   "metadata": {
    "papermill": {
     "duration": 0.084494,
     "end_time": "2021-09-27T16:43:13.996412",
     "exception": false,
     "start_time": "2021-09-27T16:43:13.911918",
     "status": "completed"
    },
    "tags": []
   },
   "source": [
    "**The start and end stations are same for the Top 10 route of member riders.**"
   ]
  },
  {
   "cell_type": "code",
   "execution_count": 52,
   "id": "04145a01",
   "metadata": {
    "execution": {
     "iopub.execute_input": "2021-09-27T16:43:14.176228Z",
     "iopub.status.busy": "2021-09-27T16:43:14.175043Z",
     "iopub.status.idle": "2021-09-27T16:43:14.191528Z",
     "shell.execute_reply": "2021-09-27T16:43:14.189995Z"
    },
    "papermill": {
     "duration": 0.107908,
     "end_time": "2021-09-27T16:43:14.191751",
     "exception": false,
     "start_time": "2021-09-27T16:43:14.083843",
     "status": "completed"
    },
    "tags": []
   },
   "outputs": [],
   "source": [
    "# Separate the top 10 start and end station names\n",
    "\n",
    "popular_ride_route_member_top10 <- popular_ride_route_member_top10 %>%\n",
    "  separate(route, c(\"start_station_name\", \"end_station_name\"), sep = \" To \")"
   ]
  },
  {
   "cell_type": "code",
   "execution_count": 53,
   "id": "9c7923a4",
   "metadata": {
    "execution": {
     "iopub.execute_input": "2021-09-27T16:43:14.366313Z",
     "iopub.status.busy": "2021-09-27T16:43:14.365014Z",
     "iopub.status.idle": "2021-09-27T16:43:14.401175Z",
     "shell.execute_reply": "2021-09-27T16:43:14.399532Z"
    },
    "papermill": {
     "duration": 0.126159,
     "end_time": "2021-09-27T16:43:14.401317",
     "exception": false,
     "start_time": "2021-09-27T16:43:14.275158",
     "status": "completed"
    },
    "tags": []
   },
   "outputs": [
    {
     "data": {
      "text/html": [
       "<table class=\"dataframe\">\n",
       "<caption>A data.frame: 10 × 5</caption>\n",
       "<thead>\n",
       "\t<tr><th></th><th scope=col>start_station_name</th><th scope=col>number_of_rides</th><th scope=col>average_duration_minutes</th><th scope=col>start_lat</th><th scope=col>start_lng</th></tr>\n",
       "\t<tr><th></th><th scope=col>&lt;chr&gt;</th><th scope=col>&lt;int&gt;</th><th scope=col>&lt;dbl&gt;</th><th scope=col>&lt;dbl&gt;</th><th scope=col>&lt;dbl&gt;</th></tr>\n",
       "</thead>\n",
       "<tbody>\n",
       "\t<tr><th scope=row>1</th><td><span style=white-space:pre-wrap>Broadway &amp; Barry Ave           </span></td><td> 929</td><td>22.040710</td><td>41.9377</td><td>-87.6441</td></tr>\n",
       "\t<tr><th scope=row>2</th><td>Burnham Harbor                 </td><td>1007</td><td>26.068729</td><td>41.8563</td><td>-87.6133</td></tr>\n",
       "\t<tr><th scope=row>3</th><td><span style=white-space:pre-wrap>Clark St &amp; Elm St              </span></td><td> 932</td><td>17.755204</td><td>41.9030</td><td>-87.6313</td></tr>\n",
       "\t<tr><th scope=row>4</th><td><span style=white-space:pre-wrap>Dearborn St &amp; Erie St          </span></td><td> 964</td><td>21.695405</td><td>41.8940</td><td>-87.6293</td></tr>\n",
       "\t<tr><th scope=row>5</th><td><span style=white-space:pre-wrap>Lake Shore Dr &amp; Belmont Ave    </span></td><td> 905</td><td>26.973481</td><td>41.9408</td><td>-87.6392</td></tr>\n",
       "\t<tr><th scope=row>6</th><td><span style=white-space:pre-wrap>Lake Shore Dr &amp; North Blvd     </span></td><td> 885</td><td>21.821288</td><td>41.9117</td><td>-87.6268</td></tr>\n",
       "\t<tr><th scope=row>7</th><td>Lake Shore Dr &amp; Wellington Ave </td><td>1007</td><td>23.328749</td><td>41.9367</td><td>-87.6368</td></tr>\n",
       "\t<tr><th scope=row>8</th><td>Lakefront Trail &amp; Bryn Mawr Ave</td><td> 881</td><td>27.170829</td><td>41.9840</td><td>-87.6523</td></tr>\n",
       "\t<tr><th scope=row>9</th><td><span style=white-space:pre-wrap>MLK Jr Dr &amp; 29th St            </span></td><td> 948</td><td> 7.553861</td><td>41.8421</td><td>-87.6170</td></tr>\n",
       "\t<tr><th scope=row>10</th><td>Theater on the Lake            </td><td> 895</td><td>21.752615</td><td>41.9263</td><td>-87.6308</td></tr>\n",
       "</tbody>\n",
       "</table>\n"
      ],
      "text/latex": [
       "A data.frame: 10 × 5\n",
       "\\begin{tabular}{r|lllll}\n",
       "  & start\\_station\\_name & number\\_of\\_rides & average\\_duration\\_minutes & start\\_lat & start\\_lng\\\\\n",
       "  & <chr> & <int> & <dbl> & <dbl> & <dbl>\\\\\n",
       "\\hline\n",
       "\t1 & Broadway \\& Barry Ave            &  929 & 22.040710 & 41.9377 & -87.6441\\\\\n",
       "\t2 & Burnham Harbor                  & 1007 & 26.068729 & 41.8563 & -87.6133\\\\\n",
       "\t3 & Clark St \\& Elm St               &  932 & 17.755204 & 41.9030 & -87.6313\\\\\n",
       "\t4 & Dearborn St \\& Erie St           &  964 & 21.695405 & 41.8940 & -87.6293\\\\\n",
       "\t5 & Lake Shore Dr \\& Belmont Ave     &  905 & 26.973481 & 41.9408 & -87.6392\\\\\n",
       "\t6 & Lake Shore Dr \\& North Blvd      &  885 & 21.821288 & 41.9117 & -87.6268\\\\\n",
       "\t7 & Lake Shore Dr \\& Wellington Ave  & 1007 & 23.328749 & 41.9367 & -87.6368\\\\\n",
       "\t8 & Lakefront Trail \\& Bryn Mawr Ave &  881 & 27.170829 & 41.9840 & -87.6523\\\\\n",
       "\t9 & MLK Jr Dr \\& 29th St             &  948 &  7.553861 & 41.8421 & -87.6170\\\\\n",
       "\t10 & Theater on the Lake             &  895 & 21.752615 & 41.9263 & -87.6308\\\\\n",
       "\\end{tabular}\n"
      ],
      "text/markdown": [
       "\n",
       "A data.frame: 10 × 5\n",
       "\n",
       "| <!--/--> | start_station_name &lt;chr&gt; | number_of_rides &lt;int&gt; | average_duration_minutes &lt;dbl&gt; | start_lat &lt;dbl&gt; | start_lng &lt;dbl&gt; |\n",
       "|---|---|---|---|---|---|\n",
       "| 1 | Broadway &amp; Barry Ave            |  929 | 22.040710 | 41.9377 | -87.6441 |\n",
       "| 2 | Burnham Harbor                  | 1007 | 26.068729 | 41.8563 | -87.6133 |\n",
       "| 3 | Clark St &amp; Elm St               |  932 | 17.755204 | 41.9030 | -87.6313 |\n",
       "| 4 | Dearborn St &amp; Erie St           |  964 | 21.695405 | 41.8940 | -87.6293 |\n",
       "| 5 | Lake Shore Dr &amp; Belmont Ave     |  905 | 26.973481 | 41.9408 | -87.6392 |\n",
       "| 6 | Lake Shore Dr &amp; North Blvd      |  885 | 21.821288 | 41.9117 | -87.6268 |\n",
       "| 7 | Lake Shore Dr &amp; Wellington Ave  | 1007 | 23.328749 | 41.9367 | -87.6368 |\n",
       "| 8 | Lakefront Trail &amp; Bryn Mawr Ave |  881 | 27.170829 | 41.9840 | -87.6523 |\n",
       "| 9 | MLK Jr Dr &amp; 29th St             |  948 |  7.553861 | 41.8421 | -87.6170 |\n",
       "| 10 | Theater on the Lake             |  895 | 21.752615 | 41.9263 | -87.6308 |\n",
       "\n"
      ],
      "text/plain": [
       "   start_station_name              number_of_rides average_duration_minutes\n",
       "1  Broadway & Barry Ave             929            22.040710               \n",
       "2  Burnham Harbor                  1007            26.068729               \n",
       "3  Clark St & Elm St                932            17.755204               \n",
       "4  Dearborn St & Erie St            964            21.695405               \n",
       "5  Lake Shore Dr & Belmont Ave      905            26.973481               \n",
       "6  Lake Shore Dr & North Blvd       885            21.821288               \n",
       "7  Lake Shore Dr & Wellington Ave  1007            23.328749               \n",
       "8  Lakefront Trail & Bryn Mawr Ave  881            27.170829               \n",
       "9  MLK Jr Dr & 29th St              948             7.553861               \n",
       "10 Theater on the Lake              895            21.752615               \n",
       "   start_lat start_lng\n",
       "1  41.9377   -87.6441 \n",
       "2  41.8563   -87.6133 \n",
       "3  41.9030   -87.6313 \n",
       "4  41.8940   -87.6293 \n",
       "5  41.9408   -87.6392 \n",
       "6  41.9117   -87.6268 \n",
       "7  41.9367   -87.6368 \n",
       "8  41.9840   -87.6523 \n",
       "9  41.8421   -87.6170 \n",
       "10 41.9263   -87.6308 "
      ]
     },
     "metadata": {},
     "output_type": "display_data"
    }
   ],
   "source": [
    "# Create a new data frame with top 10 stations, number of rides and average ride duration\n",
    "\n",
    "popular_ride_route_top10_member_start <- popular_ride_route_member_top10[,c(1,3,4)]\n",
    "#Create a new data frame by joining all_trips_stations and popular_ride_route_top20_start to find the latitude and longitude of top 20 stations\n",
    "\n",
    "m_top10_stations_member <- merge(popular_ride_route_top10_member_start, all_trips_stations)\n",
    "\n",
    "head(m_top10_stations_member, 10)\n"
   ]
  },
  {
   "cell_type": "markdown",
   "id": "b209bdbf",
   "metadata": {
    "papermill": {
     "duration": 0.084734,
     "end_time": "2021-09-27T16:43:14.571471",
     "exception": false,
     "start_time": "2021-09-27T16:43:14.486737",
     "status": "completed"
    },
    "tags": []
   },
   "source": [
    "I will export the **m_top_stations_member** and then **import in Tableau** for further analysis as it has the details about the latitude and longitude of the stations."
   ]
  },
  {
   "cell_type": "markdown",
   "id": "4619ef9c",
   "metadata": {
    "papermill": {
     "duration": 0.084327,
     "end_time": "2021-09-27T16:43:14.741407",
     "exception": false,
     "start_time": "2021-09-27T16:43:14.657080",
     "status": "completed"
    },
    "tags": []
   },
   "source": [
    "![Cyclistic Popular Stations_Member_Riders](https://storage.googleapis.com/d101-analytics/Cyclistic%20Popular%20Stations%20-%20Member%20Riders.png)"
   ]
  },
  {
   "cell_type": "markdown",
   "id": "64f03236",
   "metadata": {
    "papermill": {
     "duration": 0.085516,
     "end_time": "2021-09-27T16:43:14.912259",
     "exception": false,
     "start_time": "2021-09-27T16:43:14.826743",
     "status": "completed"
    },
    "tags": []
   },
   "source": [
    "**Share:**     \n",
    "\n",
    "\n",
    "The average ride duration of ~46 minutes for **casual rider** is around **3 times higher compared** to that of member rider of ~16 minutes.  \n",
    " \n",
    "  \n",
    "The average ride duration for **member rider is consisteny almost throughout the week** with Monday to Friday at ~16 minutes with a slight increase to ~18 minutes over Saturday and Sunday.  \n",
    " \n",
    "The average ride duration for **casual rider is almost consistent throughout the week** with Monday to Saturday at ~45 minutes; with a slight increase to ~50 minutes on Sunday.  \n",
    " \n",
    "The total number of ride is almost constant throughout 7 days for member riders whereas **~42% of the total ride for casual riders are on Saturday and Sunday only.**   \n"
   ]
  },
  {
   "cell_type": "code",
   "execution_count": 54,
   "id": "357fb677",
   "metadata": {
    "execution": {
     "iopub.execute_input": "2021-09-27T16:43:15.093995Z",
     "iopub.status.busy": "2021-09-27T16:43:15.092653Z",
     "iopub.status.idle": "2021-09-27T16:43:15.185576Z",
     "shell.execute_reply": "2021-09-27T16:43:15.184938Z"
    },
    "papermill": {
     "duration": 0.186658,
     "end_time": "2021-09-27T16:43:15.185738",
     "exception": false,
     "start_time": "2021-09-27T16:43:14.999080",
     "status": "completed"
    },
    "tags": []
   },
   "outputs": [
    {
     "data": {
      "image/png": "[encoded data removed]"
     },
     "metadata": {
      "image/png": {
       "height": 420,
       "width": 420
      }
     },
     "output_type": "display_data"
    }
   ],
   "source": [
    "\n",
    "pie3D(slices_casual_week, labels = lbls_casual_week, explode = 0.1, col= terrain.colors(2), main = \"Casual Riders Breakup by Day: Sat-Sun Vs Mon-Fri\")"
   ]
  },
  {
   "cell_type": "markdown",
   "id": "65dad26d",
   "metadata": {
    "papermill": {
     "duration": 0.087835,
     "end_time": "2021-09-27T16:43:15.361326",
     "exception": false,
     "start_time": "2021-09-27T16:43:15.273491",
     "status": "completed"
    },
    "tags": []
   },
   "source": [
    "**July to September constitute to more than 50% of the overall total rides** for both casual and member riders; with ~61% for casual riders and ~52% for member riders."
   ]
  },
  {
   "cell_type": "code",
   "execution_count": 55,
   "id": "67e115b2",
   "metadata": {
    "execution": {
     "iopub.execute_input": "2021-09-27T16:43:15.543634Z",
     "iopub.status.busy": "2021-09-27T16:43:15.542264Z",
     "iopub.status.idle": "2021-09-27T16:43:15.626951Z",
     "shell.execute_reply": "2021-09-27T16:43:15.626316Z"
    },
    "papermill": {
     "duration": 0.178647,
     "end_time": "2021-09-27T16:43:15.627119",
     "exception": false,
     "start_time": "2021-09-27T16:43:15.448472",
     "status": "completed"
    },
    "tags": []
   },
   "outputs": [
    {
     "data": {
      "image/png": "[encoded data removed]"
     },
     "metadata": {
      "image/png": {
       "height": 420,
       "width": 420
      }
     },
     "output_type": "display_data"
    }
   ],
   "source": [
    " pie3D(slices_casual_month, labels = lbls_casual_month, explode = 0.1, col= terrain.colors(2), main = \"Casual Riders Breakup by Month: July-September Vs Rest of the Year\")"
   ]
  },
  {
   "cell_type": "markdown",
   "id": "845b55d6",
   "metadata": {
    "papermill": {
     "duration": 0.092716,
     "end_time": "2021-09-27T16:43:15.809802",
     "exception": false,
     "start_time": "2021-09-27T16:43:15.717086",
     "status": "completed"
    },
    "tags": []
   },
   "source": [
    "**The top 10 routes' start station with maximum number of rides for both casual and member riders are differenet.**\n",
    "\n",
    "![Top 10 Stations With Maximum Riders](https://storage.googleapis.com/d101-analytics/Cyclistic%20Top%2010%20Stations%20With%20Maximum%20Riders.png)"
   ]
  },
  {
   "cell_type": "markdown",
   "id": "ff0e4f81",
   "metadata": {
    "papermill": {
     "duration": 0.0923,
     "end_time": "2021-09-27T16:43:15.990723",
     "exception": false,
     "start_time": "2021-09-27T16:43:15.898423",
     "status": "completed"
    },
    "tags": []
   },
   "source": [
    "The top 10 routes' start and end stations are same for casual riders. These **top 10 stations also corresponds to the popular sites in Chigago** as per Microsoft Bing search *Popular sites in Chicago.* [Reference](https://www.bing.com/maps?q=popular+sites+in+chicago&go=Search&qs=ds&form=QBRE)  \n",
    "\n",
    "[Top 10 Casual Rider Stations Tableau Dashboard Link](https://public.tableau.com/app/profile/moirangthem.arup.singh/viz/Cyclistic-HowDoesaBike-ShareNavigateSpeedySuccess/CyclisticPopularStations-CasualRiders)"
   ]
  },
  {
   "cell_type": "markdown",
   "id": "a1bc852d",
   "metadata": {
    "papermill": {
     "duration": 0.109749,
     "end_time": "2021-09-27T16:43:16.195668",
     "exception": false,
     "start_time": "2021-09-27T16:43:16.085919",
     "status": "completed"
    },
    "tags": []
   },
   "source": [
    "For both member and casual rider's ride '*docked bike*' is the most preferred bike almost throughout the year except from Decemember to March where '*classic bike*' was most popular."
   ]
  },
  {
   "cell_type": "markdown",
   "id": "083a1101",
   "metadata": {
    "papermill": {
     "duration": 0.089376,
     "end_time": "2021-09-27T16:43:16.374806",
     "exception": false,
     "start_time": "2021-09-27T16:43:16.285430",
     "status": "completed"
    },
    "tags": []
   },
   "source": [
    "**Act:**  \n",
    "The high level recommendations for increasing the number of rider membership are:  \n",
    "\n",
    "A little more than *60% of the casual riders* use Cyclictic over a span of 3 months from *July to September* which are the busy months with visitors in Chicago with a lot of events and festivals; **Marketing team must focus on top 10 stations during these months which are around the popular tourist's site** for:     \n",
    "       ****A weekly, monthly and quarterly membership schemes***       \n",
    "      ****Partner with Google and Microsoft search engines and popular visitor's sites of interest to increase the reach and offer special packages on the membership schemes***     \n",
    "      ****Increasing the number of bikes' availability over the period of these 3 months***  \n",
    "        \n",
    "    \n",
    "\n",
    "Design campaign to ***promote the usage of bikes regularly by highliting the health and environmental beneficts by creating a mobile application*** which can show the calories burnt and carbon emmission reduction. And have a reward system once a certain level is reached. This will encourage memberships.  \n",
    "\n",
    "**Collaborate with organizations and companies** in promoting the usage of bikes by offering various membership schemes; this will be a win-win situation for both.   \n",
    "\n",
    "Increase the number of *classic bikes* availability from December to March as the total number of casual rides with classic bikes were high during these months. Design campaigns to promote the classic bike's usage by highliting it's benefits during these coldest months of Chicago.    \n",
    "\n",
    "Further analysis needs to be carried out to find insights to reduce the average ride duration of casual riders as currently although ~43% of the total rides are done by casual riders but the average ride duration is ~3 times more than the member riders. And to increase the availability of bikes; need to shorten the ride duration.     \n",
    "\n",
    "  \n",
    "  \n",
    "    \n",
    "    \n",
    "      \n",
    "      \n",
    "  \n",
    "    \n",
    "    \n",
    "\t\n"
   ]
  },
  {
   "cell_type": "markdown",
   "id": "8dfb2739",
   "metadata": {
    "papermill": {
     "duration": 0.088033,
     "end_time": "2021-09-27T16:43:16.551488",
     "exception": false,
     "start_time": "2021-09-27T16:43:16.463455",
     "status": "completed"
    },
    "tags": []
   },
   "source": [
    "Finally, ***Thank You*** to the Google Data Analytics coursera team for meticulously planning and delivering such an amazing course and giving an opportunity to work on the project. Thanks to the R community for all the great documentation across forums which helped me to choose the right tools and funtions which helped in prepare, process and analyze phases.  \n",
    "  \n",
    "  "
   ]
  }
 ],
 "metadata": {
  "kernelspec": {
   "display_name": "R",
   "language": "R",
   "name": "ir"
  },
  "language_info": {
   "codemirror_mode": "r",
   "file_extension": ".r",
   "mimetype": "text/x-r-source",
   "name": "R",
   "pygments_lexer": "r",
   "version": "4.0.5"
  },
  "papermill": {
   "default_parameters": {},
   "duration": 187.975917,
   "end_time": "2021-09-27T16:43:16.854195",
   "environment_variables": {},
   "exception": null,
   "input_path": "__notebook__.ipynb",
   "output_path": "__notebook__.ipynb",
   "parameters": {},
   "start_time": "2021-09-27T16:40:08.878278",
   "version": "2.3.3"
  }
 },
 "nbformat": 4,
 "nbformat_minor": 5
}
